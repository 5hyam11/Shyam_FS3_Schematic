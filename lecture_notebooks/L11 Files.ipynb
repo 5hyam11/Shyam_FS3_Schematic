{
  "cells": [
    {
      "metadata": {
        "id": "5UyFJYXOx-WH"
      },
      "cell_type": "markdown",
      "source": [
        "# Lecture 11 - Files\n",
        "\n",
        "Today:\n",
        "* Files.\n",
        "  * Writing Files\n",
        "  * Reading files\n",
        "  * With keyword\n",
        "  * For loops on file handles\n",
        "  * Binary files\n",
        "  * Directories\n",
        "  * Web file retrieval\n",
        "\n"
      ]
    },
    {
      "metadata": {
        "id": "iT7epkfjCAq6"
      },
      "cell_type": "markdown",
      "source": [
        "# Motivation\n",
        "\n",
        "* Up to now we've mainly used input() to get input to the programs we've written.\n",
        "\n",
        "* In the real world, this is not the way we generally get data into a program. Rather we read and write data to and from files.\n",
        "\n",
        "* Files (eg documents, spreadsheets or images) are just semantically organized sequences of bits.\n",
        "\n",
        "* They can exist on a disk, be pulled from the internet or be created transiently as we pipe inputs and outputs from our programs.\n",
        "\n",
        "* They can be small, and they can be very large.\n",
        "\n",
        "Anyway, let's dive in... (today will use larger code samples than we've seen previously - you're leveling up)"
      ]
    },
    {
      "metadata": {
        "id": "SZ27fsOR87Cw"
      },
      "cell_type": "markdown",
      "source": [
        "# Writing Files\n",
        "\n",
        "Let's first look at creating a file. You'll often want to do this when writing out the results of some analysis."
      ]
    },
    {
      "metadata": {
        "execution": {
          "iopub.execute_input": "2022-09-23T00:20:18.582650Z",
          "iopub.status.busy": "2022-09-23T00:20:18.581626Z",
          "iopub.status.idle": "2022-09-23T00:20:18.585684Z",
          "shell.execute_reply": "2022-09-23T00:20:18.586336Z"
        },
        "id": "38xJY3yOui52",
        "trusted": true
      },
      "cell_type": "code",
      "source": [
        "fh = open(\"test.txt\", \"w\")\n",
        "# Opens a file test.txt in the working directory of the Python program.\n",
        "# The \"w\" (short for \"write\"), says you intend to write to the file.\n",
        "\n",
        "# If test.txt does not exist before this point it is created as an empty file.\n",
        "\n",
        "# If test.txt existed before this point its contents are now overwritten -\n",
        "# so be careful opening files for writing\n",
        "\n",
        "# fh (the return value from open) is a \"file handle\",\n",
        "# you use it to handle the communication with the file\n",
        "\n",
        "# The write method of the file_handle object is a lot like print(),\n",
        "# except (1) the string arguments are written to the file, instead of the screen,\n",
        "# and (2) write does not add newlines to the end of the string\n",
        "# (so you add them explicitly, as in this example)\n",
        "\n",
        "fh.write(\"My first file written from Python\\n\")\n",
        "fh.write(\"---------------------------------\\n\")\n",
        "fh.write(\"Hello, world!\\n\")\n",
        "\n",
        "fh.close()\n",
        "# This closes the file.\n",
        "# You can't keep using my_file after this as the file connection is closed.\n",
        "# It is important to close the file when  you're done"
      ],
      "execution_count": null,
      "outputs": []
    },
    {
      "metadata": {
        "id": "2cf01WIn7pJZ"
      },
      "cell_type": "markdown",
      "source": [
        "Note: (Do matched demo from terminal to show contents of file)\n"
      ]
    },
    {
      "metadata": {
        "id": "KjJ_lZssTKgN"
      },
      "cell_type": "markdown",
      "source": [
        "**To append to the end of an existing file:**"
      ]
    },
    {
      "metadata": {
        "execution": {
          "iopub.execute_input": "2022-09-23T00:20:18.592268Z",
          "iopub.status.busy": "2022-09-23T00:20:18.591454Z",
          "iopub.status.idle": "2022-09-23T00:20:18.594228Z",
          "shell.execute_reply": "2022-09-23T00:20:18.594887Z"
        },
        "id": "2EpL3R5WBeVf",
        "trusted": true,
        "outputId": "c9a7df46-9877-41cb-841d-663ccd045b3b"
      },
      "cell_type": "code",
      "source": [
        "fh = open(\"test.txt\", \"a\")\n",
        "# \"a\" (short for append) opens an existing file to append to it\n",
        "# If test.txt does not exist then 'a' creates the file, just like 'w'\n",
        "\n",
        "fh.write(\"Hello, again!\\n\")\n",
        "\n",
        "fh.close() # Again, always close the file\n",
        "\n",
        "import os\n",
        "print(os.getcwd())"
      ],
      "execution_count": null,
      "outputs": [
        {
          "output_type": "stream",
          "text": "/private/var/mobile/Library/Mobile Documents/com~apple~CloudDocs/Documents/w/teach/20-f24/intro_python/lecture_notebooks\n",
          "name": "stdout"
        }
      ]
    },
    {
      "metadata": {
        "id": "bf-ylIdLTQpE"
      },
      "cell_type": "markdown",
      "source": [
        "Note: (Continue matched demo from terminal to show contents of appended to file)"
      ]
    },
    {
      "metadata": {
        "id": "0Csg1vPc8_7C"
      },
      "cell_type": "markdown",
      "source": [
        "# Reading Files"
      ]
    },
    {
      "metadata": {
        "colab": {
          "base_uri": "https://localhost:8080/",
          "height": 157
        },
        "execution": {
          "iopub.execute_input": "2022-09-23T00:20:18.601150Z",
          "iopub.status.busy": "2022-09-23T00:20:18.600024Z",
          "iopub.status.idle": "2022-09-23T00:20:18.603658Z",
          "shell.execute_reply": "2022-09-23T00:20:18.604194Z"
        },
        "id": "CAhQ4GB07xBM",
        "outputId": "031dc175-94e2-4a44-e410-0e5eb5e2dfe2",
        "trusted": true
      },
      "cell_type": "code",
      "source": [
        "fh = open(\"test.txt\", \"r\")\n",
        "# This opens the file, \"r\" argument means \"read\"\n",
        "\n",
        "print(fh.readline(), end=\"\") # readline returns a line with the \\n at the end\n",
        "print(fh.readline(), end=\"\")\n",
        "print(fh.readline(), end=\"\")\n",
        "print(fh.readline(), end=\"\")\n"
      ],
      "execution_count": null,
      "outputs": [
        {
          "output_type": "stream",
          "text": "My first file written from Python\n---------------------------------\nHello, world!\nHello, again!\n",
          "name": "stdout"
        }
      ]
    },
    {
      "metadata": {
        "colab": {
          "base_uri": "https://localhost:8080/",
          "height": 157
        },
        "execution": {
          "iopub.execute_input": "2022-09-23T00:20:18.601150Z",
          "iopub.status.busy": "2022-09-23T00:20:18.600024Z",
          "iopub.status.idle": "2022-09-23T00:20:18.603658Z",
          "shell.execute_reply": "2022-09-23T00:20:18.604194Z"
        },
        "outputId": "031dc175-94e2-4a44-e410-0e5eb5e2dfe2",
        "trusted": true,
        "id": "qdG9oSIj7kNA"
      },
      "cell_type": "code",
      "source": [
        "fh = open(\"test.txt\", \"r\")\n",
        "# This opens the file, \"r\" argument means \"read\"\n",
        "\n",
        "# The following loop walks through the file line by line\n",
        "while True:                # Keep reading forever\n",
        "    line = fh.readline()   # read next line, returns a string\n",
        "    if line == \"\":         # At end-of-file, readline returns the empty string ''\n",
        "        break              # leave the loop\n",
        "    # Print the line we've just read\n",
        "    print(line, end=\"\")\n",
        "\n",
        "fh.close()"
      ],
      "execution_count": null,
      "outputs": [
        {
          "output_type": "stream",
          "text": "My first file written from Python\n---------------------------------\nHello, world!\n",
          "name": "stdout"
        }
      ]
    },
    {
      "metadata": {
        "id": "XpE5L7547yKT"
      },
      "cell_type": "markdown",
      "source": [
        "What is nice about the above loop is that regardless of the number of files, Python only stores one line in memory, allowing it to process arbitrarily large files."
      ]
    },
    {
      "metadata": {
        "id": "JQLYxYmr7kNA"
      },
      "cell_type": "markdown",
      "source": [
        "**Python will complain if you try to open a file that doesn't exist...**"
      ]
    },
    {
      "metadata": {
        "colab": {
          "base_uri": "https://localhost:8080/",
          "height": 166
        },
        "execution": {
          "iopub.execute_input": "2022-09-23T00:20:18.610785Z",
          "iopub.status.busy": "2022-09-23T00:20:18.609914Z",
          "iopub.status.idle": "2022-09-23T00:20:18.679660Z",
          "shell.execute_reply": "2022-09-23T00:20:18.680380Z"
        },
        "id": "aTvzYDew7yiC",
        "outputId": "94122b46-28f1-431b-a42b-b5351990a730",
        "trusted": true
      },
      "cell_type": "code",
      "source": [
        "fh = open(\"wharrah.txt\", \"r\")"
      ],
      "execution_count": null,
      "outputs": [
        {
          "output_type": "error",
          "ename": "FileNotFoundError",
          "evalue": "[Errno 2] No such file or directory: 'wharrah.txt'",
          "traceback": [
            "\u001b[0;31m---------------------------------------------------------------------------\u001b[0m",
            "\u001b[0;31mFileNotFoundError\u001b[0m                         Traceback (most recent call last)",
            "\u001b[0;32m<ipython-input-4-e42d04f6881d>\u001b[0m in \u001b[0;36m<module>\u001b[0;34m\u001b[0m\n\u001b[0;32m----> 1\u001b[0;31m \u001b[0mfh\u001b[0m \u001b[0;34m=\u001b[0m \u001b[0mopen\u001b[0m\u001b[0;34m(\u001b[0m\u001b[0;34m\"wharrah.txt\"\u001b[0m\u001b[0;34m,\u001b[0m \u001b[0;34m\"r\"\u001b[0m\u001b[0;34m)\u001b[0m\u001b[0;34m\u001b[0m\u001b[0;34m\u001b[0m\u001b[0m\n\u001b[0m",
            "\u001b[0;31mFileNotFoundError\u001b[0m: [Errno 2] No such file or directory: 'wharrah.txt'"
          ]
        }
      ]
    },
    {
      "metadata": {
        "id": "ooeE2DB6FCRM"
      },
      "cell_type": "markdown",
      "source": [
        "**To read contents of file into memory in one go use read()**"
      ]
    },
    {
      "metadata": {
        "colab": {
          "base_uri": "https://localhost:8080/",
          "height": 122
        },
        "execution": {
          "iopub.execute_input": "2022-09-23T00:20:18.687392Z",
          "iopub.status.busy": "2022-09-23T00:20:18.686320Z",
          "iopub.status.idle": "2022-09-23T00:20:18.690036Z",
          "shell.execute_reply": "2022-09-23T00:20:18.690821Z"
        },
        "id": "aGPsxgzYGuf1",
        "outputId": "1578e898-5c5e-4634-8238-8135069427ae",
        "trusted": true
      },
      "cell_type": "code",
      "source": [
        "fh = open(\"test.txt\", \"r\")\n",
        "\n",
        "content = fh.read() # Read the contents of the file\n",
        "\n",
        "print(type(content)) # Yup, content is a string\n",
        "print(len(content))\n",
        "print(content.split('\\n'))\n",
        "print(content)\n",
        "\n",
        "fh.close()"
      ],
      "execution_count": null,
      "outputs": [
        {
          "output_type": "stream",
          "text": "<class 'str'>\n110\n['My first file written from Python', '---------------------------------', 'Hello, world!', 'Hello, again!', 'Hello, again!', '']\nMy first file written from Python\n---------------------------------\nHello, world!\nHello, again!\nHello, again!\n\n",
          "name": "stdout"
        }
      ]
    },
    {
      "metadata": {
        "id": "fUUcCij9H0Vi"
      },
      "cell_type": "markdown",
      "source": [
        "**readlines will read all the lines in a file:**"
      ]
    },
    {
      "metadata": {
        "colab": {
          "base_uri": "https://localhost:8080/",
          "height": 72
        },
        "execution": {
          "iopub.execute_input": "2022-09-23T00:20:18.697490Z",
          "iopub.status.busy": "2022-09-23T00:20:18.696722Z",
          "iopub.status.idle": "2022-09-23T00:20:18.699976Z",
          "shell.execute_reply": "2022-09-23T00:20:18.700417Z"
        },
        "id": "UyOOG16sHugL",
        "outputId": "85bde637-6439-490f-cec9-0398d9bc293a",
        "trusted": true
      },
      "cell_type": "code",
      "source": [
        "fh = open(\"test.txt\")\n",
        "# If you don't give the second argument it defaults to read only\n",
        "\n",
        "content = fh.readlines() # Read the contents of the file\n",
        "\n",
        "print(type(content)) # Yup, content is now a list of strings\n",
        "\n",
        "print(content)\n",
        "\n",
        "fh.close()"
      ],
      "execution_count": null,
      "outputs": [
        {
          "output_type": "stream",
          "text": "<class 'list'>\n['My first file written from Python\\n', '---------------------------------\\n', 'Hello, world!\\n']\n",
          "name": "stdout"
        }
      ]
    },
    {
      "metadata": {
        "id": "GAHnoQSS7kNB"
      },
      "cell_type": "markdown",
      "source": [
        "# Challenge 1"
      ]
    },
    {
      "metadata": {
        "execution": {
          "iopub.execute_input": "2022-09-23T00:20:18.704758Z",
          "iopub.status.busy": "2022-09-23T00:20:18.703967Z",
          "iopub.status.idle": "2022-09-23T00:20:18.706503Z",
          "shell.execute_reply": "2022-09-23T00:20:18.706949Z"
        },
        "id": "UgYsFrEKE4Y4",
        "trusted": true,
        "outputId": "9edcc842-b61f-44e0-e8c1-ec436051c68b"
      },
      "cell_type": "code",
      "source": [
        "l = list(range(100))\n",
        "\n",
        "## Write the numbers in l to a file \"out.txt\"\n",
        "\n",
        "fh = open(\"out.txt\",\"w\")\n",
        "for i in l:\n",
        "    fh.write( str(i)+\"\\n\" )\n",
        "fh.close()\n",
        "\n",
        "## Read the numbers from out.txt into a new list, \"l2\"\n",
        "fh2 = open(\"out.txt\")\n",
        "l2 = []\n",
        "while True:\n",
        "    line = fh2.readline()\n",
        "    if line == \"\":\n",
        "        break\n",
        "    print( 1/ 0 )\n",
        "    l2.append( int(line) )\n",
        "fh2.close()\n",
        "print(l2)\n",
        "...\n",
        "\n",
        "## check that l == l2\n",
        "assert l == l2\n",
        "\n",
        "# Remember: fh.write(...), fh.readline(), fh.readlines(), or fh.read()"
      ],
      "execution_count": null,
      "outputs": [
        {
          "output_type": "error",
          "ename": "ZeroDivisionError",
          "evalue": "division by zero",
          "traceback": [
            "\u001b[0;31m---------------------------------------------------------------------------\u001b[0m",
            "\u001b[0;31mZeroDivisionError\u001b[0m                         Traceback (most recent call last)",
            "\u001b[0;32m<ipython-input-6-c101e213bd52>\u001b[0m in \u001b[0;36m<module>\u001b[0;34m\u001b[0m\n\u001b[1;32m     15\u001b[0m     \u001b[0;32mif\u001b[0m \u001b[0mline\u001b[0m \u001b[0;34m==\u001b[0m \u001b[0;34m\"\"\u001b[0m\u001b[0;34m:\u001b[0m\u001b[0;34m\u001b[0m\u001b[0;34m\u001b[0m\u001b[0m\n\u001b[1;32m     16\u001b[0m         \u001b[0;32mbreak\u001b[0m\u001b[0;34m\u001b[0m\u001b[0;34m\u001b[0m\u001b[0m\n\u001b[0;32m---> 17\u001b[0;31m     \u001b[0mprint\u001b[0m\u001b[0;34m(\u001b[0m \u001b[0;36m1\u001b[0m\u001b[0;34m/\u001b[0m \u001b[0;36m0\u001b[0m \u001b[0;34m)\u001b[0m\u001b[0;34m\u001b[0m\u001b[0;34m\u001b[0m\u001b[0m\n\u001b[0m\u001b[1;32m     18\u001b[0m     \u001b[0ml2\u001b[0m\u001b[0;34m.\u001b[0m\u001b[0mappend\u001b[0m\u001b[0;34m(\u001b[0m \u001b[0mint\u001b[0m\u001b[0;34m(\u001b[0m\u001b[0mline\u001b[0m\u001b[0;34m)\u001b[0m \u001b[0;34m)\u001b[0m\u001b[0;34m\u001b[0m\u001b[0;34m\u001b[0m\u001b[0m\n\u001b[1;32m     19\u001b[0m \u001b[0mfh2\u001b[0m\u001b[0;34m.\u001b[0m\u001b[0mclose\u001b[0m\u001b[0;34m(\u001b[0m\u001b[0;34m)\u001b[0m\u001b[0;34m\u001b[0m\u001b[0;34m\u001b[0m\u001b[0m\n",
            "\u001b[0;31mZeroDivisionError\u001b[0m: division by zero"
          ]
        }
      ]
    },
    {
      "metadata": {
        "id": "nq84RePQIrbm"
      },
      "cell_type": "markdown",
      "source": [
        "# The with Keyword\n",
        "\n",
        "Good programming is often about anticipating errors and dealing with them.\n",
        "\n",
        "The 'with' keyword is both useful short-hand and good defensive programming. It cleans up the file handle for you\n",
        "\n",
        "(see https://docs.python.org/2.5/whatsnew/pep-343.html for the details...)"
      ]
    },
    {
      "metadata": {
        "colab": {
          "base_uri": "https://localhost:8080/",
          "height": 236
        },
        "execution": {
          "iopub.execute_input": "2022-09-23T00:20:18.711738Z",
          "iopub.status.busy": "2022-09-23T00:20:18.710824Z",
          "iopub.status.idle": "2022-09-23T00:20:18.717746Z",
          "shell.execute_reply": "2022-09-23T00:20:18.718215Z"
        },
        "id": "tZU5iNqQIqcF",
        "outputId": "3f0b7911-5255-493c-d0f5-ac5fa63030a3",
        "trusted": false
      },
      "cell_type": "code",
      "source": [
        "with open(\"test.txt\") as fh:\n",
        "    # With removes the need for the \"fh.close()\" statement\n",
        "    # and is better because fh.close() is guaranteed to be run even if there is an error\n",
        "    # in processing the file\n",
        "\n",
        "    assert False # This causes an error, but fh will still be closed\n",
        "    content = fh.readlines()\n",
        "    print(content)\n",
        "\n",
        "\n",
        "# For files the syntax is:\n",
        "# with OPEN_EXPRESSION as FILE_HANDLE:\n",
        "#   STATEMENTS THAT USE FILE_HANDLE"
      ],
      "execution_count": null,
      "outputs": [
        {
          "ename": "AssertionError",
          "evalue": "",
          "output_type": "error",
          "traceback": [
            "\u001b[0;31m---------------------------------------------------------------------------\u001b[0m",
            "\u001b[0;31mAssertionError\u001b[0m                            Traceback (most recent call last)",
            "\u001b[0;32m<ipython-input-8-2efbed2a78a5>\u001b[0m in \u001b[0;36m<module>\u001b[0;34m\u001b[0m\n\u001b[1;32m      3\u001b[0m   \u001b[0;31m# in processing the file\u001b[0m\u001b[0;34m\u001b[0m\u001b[0;34m\u001b[0m\u001b[0;34m\u001b[0m\u001b[0m\n\u001b[1;32m      4\u001b[0m \u001b[0;34m\u001b[0m\u001b[0m\n\u001b[0;32m----> 5\u001b[0;31m   \u001b[0;32massert\u001b[0m \u001b[0;32mFalse\u001b[0m \u001b[0;31m# This causes an error, but fh will still be closed\u001b[0m\u001b[0;34m\u001b[0m\u001b[0;34m\u001b[0m\u001b[0m\n\u001b[0m\u001b[1;32m      6\u001b[0m \u001b[0;34m\u001b[0m\u001b[0m\n\u001b[1;32m      7\u001b[0m   \u001b[0mcontent\u001b[0m \u001b[0;34m=\u001b[0m \u001b[0mfh\u001b[0m\u001b[0;34m.\u001b[0m\u001b[0mreadlines\u001b[0m\u001b[0;34m(\u001b[0m\u001b[0;34m)\u001b[0m\u001b[0;34m\u001b[0m\u001b[0;34m\u001b[0m\u001b[0m\n",
            "\u001b[0;31mAssertionError\u001b[0m: "
          ]
        }
      ]
    },
    {
      "metadata": {
        "id": "Ji9VkG3QO2JH"
      },
      "cell_type": "markdown",
      "source": [
        "# For loop works on file handles"
      ]
    },
    {
      "metadata": {
        "colab": {
          "base_uri": "https://localhost:8080/",
          "height": 87
        },
        "execution": {
          "iopub.execute_input": "2022-09-23T00:20:18.725162Z",
          "iopub.status.busy": "2022-09-23T00:20:18.724308Z",
          "iopub.status.idle": "2022-09-23T00:20:18.727360Z",
          "shell.execute_reply": "2022-09-23T00:20:18.727874Z"
        },
        "id": "PbI6o-TXOtJ2",
        "outputId": "1b95e776-e61a-4e34-d5c9-69f433f80672",
        "trusted": false
      },
      "cell_type": "code",
      "source": [
        "# If you run a for loop on a file handle open for reading\n",
        "# then it iterates through each line in the file\n",
        "\n",
        "with open(\"test.txt\") as fh:\n",
        "    for line in fh:\n",
        "        print(line, end=\"\") # end=\"\" stops print() from adding a newline to the end"
      ],
      "execution_count": null,
      "outputs": [
        {
          "name": "stdout",
          "output_type": "stream",
          "text": "My first file written from Python\n---------------------------------\nHello, world!\nHello, again!\n"
        }
      ]
    },
    {
      "metadata": {
        "id": "RdjVB8s67kNB"
      },
      "cell_type": "markdown",
      "source": [
        "# Challenge 2"
      ]
    },
    {
      "metadata": {
        "execution": {
          "iopub.execute_input": "2022-09-23T00:20:18.733317Z",
          "iopub.status.busy": "2022-09-23T00:20:18.732194Z",
          "iopub.status.idle": "2022-09-23T00:20:18.734727Z",
          "shell.execute_reply": "2022-09-23T00:20:18.735508Z"
        },
        "trusted": true,
        "id": "EqNxpOdF7kNC",
        "outputId": "c79f3a9a-ca49-4058-c561-b3a364f69a4b"
      },
      "cell_type": "code",
      "source": [
        "zhivago = \"\"\"On they went, singing \" Rest Eternal, \" and whenever they\n",
        "stopped, their feet, the horses, and the gusts of wind seemed to\n",
        "carry on their singing.\n",
        "\n",
        "Passers-by made way for the procession, counted the wreaths,\n",
        "and crossed themselves. Some joined in out of curiosity and\n",
        "asked: \" Who is being buried? \"  \" Zhivago, \" they were told.\n",
        "- \" Oh, I see. That's what it is. \" - \"It isn't him. It's his wife.\n",
        "\" - \" Well, it comes to the same thing. May her soul rest in\n",
        "peace. It's a fine funeral. \"\"\"\n",
        "\n",
        "# Write the zhivago string to the file \"zhivago.txt\".\n",
        "# Now read the contents of zhivago.txt,\n",
        "# using a for loop to iterate over the lines,\n",
        "# printing each to the screen.\n",
        "# Use 'with' to cleanup all file handles.\n",
        "\n",
        "with open(\"zhivago.txt\",\"w\") as fh:\n",
        "    fh.write(zhivago)\n",
        "\n",
        "with open(\"zhivago.txt\") as fh:\n",
        "    for line in fh:\n",
        "        print(line, end=\"\")\n"
      ],
      "execution_count": null,
      "outputs": [
        {
          "output_type": "stream",
          "text": "On they went, singing \" Rest Eternal, \" and whenever they\nstopped, their feet, the horses, and the gusts of wind seemed to\ncarry on their singing. \n\nPassers-by made way for the procession, counted the wreaths, \nand crossed themselves. Some joined in out of curiosity and \nasked: \" Who is being buried? \"  \" Zhivago, \" they were told. \n- \" Oh, I see. That's what it is. \" - \"It isn't him. It's his wife.\n\" - \" Well, it comes to the same thing. May her soul rest in \npeace. It's a fine funeral. ",
          "name": "stdout"
        }
      ]
    },
    {
      "metadata": {
        "id": "YSP_EVs7QpgW"
      },
      "cell_type": "markdown",
      "source": [
        "# Binary Files\n",
        "\n",
        "All the files we've seen so far are assumed to be text files (i.e. composed of human readable stuff). However, Python can also happily process binary files, which are just files with arbitrary bits in them.\n",
        "\n",
        "On the left we've opened a binary file (a jpeg) - the bits aren't organized so that they can be decoded as text. We can't assume that the bits in such a binary file are organized into bytes that represent meaningful text characters with white space, etc. On the right is the jpeg when properly decoded as an image.\n",
        "\n",
        "\n",
        "<img src=\"https://raw.githubusercontent.com/cormacflanagan/intro_python/main/lecture_notebooks/figures/binary%20files.jpg\" width=1000 height=500 />\n"
      ]
    },
    {
      "metadata": {
        "colab": {
          "base_uri": "https://localhost:8080/",
          "height": 72
        },
        "execution": {
          "iopub.execute_input": "2022-09-23T00:20:18.743222Z",
          "iopub.status.busy": "2022-09-23T00:20:18.742190Z",
          "iopub.status.idle": "2022-09-23T00:20:18.745273Z",
          "shell.execute_reply": "2022-09-23T00:20:18.746034Z"
        },
        "id": "AzQsT6aPXhkj",
        "outputId": "8f494076-51a6-404c-fb08-a54bee4a392c",
        "trusted": false
      },
      "cell_type": "code",
      "source": [
        "# Reading and writing binary data\n",
        "\n",
        "with open(\"test.txt\", \"rb\") as f:\n",
        "    # \"rb\" means read as a binary file\n",
        "    # Any file can be treated as a binary file\n",
        "\n",
        "    with open(\"test2.txt\", \"wb\") as g:\n",
        "        # \"wb\" means write a binary file\n",
        "\n",
        "        while True:\n",
        "            buf = f.read(10)\n",
        "            # The argument to read tells it to read a set number of bytes into \"buf\"\n",
        "            # A Byte is 8 bits, representing a number 0 <= n < 256\n",
        "            # Each Bit is 0 or 1\n",
        "\n",
        "            print(buf)\n",
        "            #print(type(buf))\n",
        "\n",
        "            if len(buf) == 0: # We're at the end\n",
        "                break\n",
        "\n",
        "            g.write(buf)"
      ],
      "execution_count": null,
      "outputs": [
        {
          "output_type": "stream",
          "text": "b'My first f'\nb'ile writte'\nb'n from Pyt'\nb'hon\\n------'\nb'----------'\nb'----------'\nb'-------\\nHe'\nb'llo, world'\nb'!\\nHello, a'\nb'gain!\\n'\nb''\n",
          "name": "stdout"
        }
      ]
    },
    {
      "metadata": {
        "id": "WgWDW4p-Y2Xb"
      },
      "cell_type": "markdown",
      "source": [
        "Now we can see that test2.txt is just a copy of the original file:"
      ]
    },
    {
      "metadata": {
        "colab": {
          "base_uri": "https://localhost:8080/",
          "height": 87
        },
        "execution": {
          "iopub.execute_input": "2022-09-23T00:20:18.751734Z",
          "iopub.status.busy": "2022-09-23T00:20:18.750668Z",
          "iopub.status.idle": "2022-09-23T00:20:18.753898Z",
          "shell.execute_reply": "2022-09-23T00:20:18.755755Z"
        },
        "id": "oRO95FSoY9MI",
        "outputId": "75db7488-f6d9-4604-a510-77519a48b61e",
        "trusted": false
      },
      "cell_type": "code",
      "source": [
        "with open(\"test2.txt\") as fh:\n",
        "    for line in fh:\n",
        "        print(line, end=\"\")"
      ],
      "execution_count": null,
      "outputs": [
        {
          "output_type": "stream",
          "text": "My first file written from Python\n---------------------------------\nHello, world!\nHello, again!\n",
          "name": "stdout"
        }
      ]
    },
    {
      "metadata": {
        "id": "h0iDQunV8V9W"
      },
      "cell_type": "markdown",
      "source": [
        "# Directories\n",
        "\n",
        "In most systems the operating system has access to a file system in which files are kept. Getting into details\n",
        "is beyond the scope of this course, because it requires us getting into operating system stuff - but let's cover the very basics.\n",
        "\n",
        "For more see: https://docs.python.org/3/library/os.html and https://docs.python.org/3/library/os.path.html\n",
        "\n",
        "By default when you open/write a file in Python uses the current working directory."
      ]
    },
    {
      "metadata": {
        "colab": {
          "base_uri": "https://localhost:8080/",
          "height": 34
        },
        "execution": {
          "iopub.execute_input": "2022-09-23T00:20:18.775623Z",
          "iopub.status.busy": "2022-09-23T00:20:18.774502Z",
          "iopub.status.idle": "2022-09-23T00:20:18.778383Z",
          "shell.execute_reply": "2022-09-23T00:20:18.779063Z"
        },
        "id": "sdevYDXf8XT6",
        "outputId": "76fbef28-9349-4e4a-ae84-1fab16b66865",
        "trusted": false
      },
      "cell_type": "code",
      "source": [
        "import os # This module provides all sorts of useful functions\n",
        "# for working with the operating system\n",
        "\n",
        "os.getcwd() # getcwd() tells us what working directory we're in.\n",
        "# (If you're using Google Collaboratory, this is some directory on\n",
        "# some (virtual) machine in Google Cloud Platform)"
      ],
      "execution_count": null,
      "outputs": [
        {
          "output_type": "execute_result",
          "execution_count": 2,
          "data": {
            "text/plain": "'/private/var/mobile/Library/Mobile Documents/com~apple~CloudDocs/Documents/w/teach/20-f24/intro_python/lecture_notebooks'"
          },
          "metadata": {}
        }
      ]
    },
    {
      "metadata": {
        "colab": {
          "base_uri": "https://localhost:8080/",
          "height": 34
        },
        "execution": {
          "iopub.execute_input": "2022-09-23T00:20:18.783982Z",
          "iopub.status.busy": "2022-09-23T00:20:18.783059Z",
          "iopub.status.idle": "2022-09-23T00:20:18.788052Z",
          "shell.execute_reply": "2022-09-23T00:20:18.788576Z"
        },
        "id": "y-ug5LCkjl4c",
        "outputId": "759cc447-56c4-46b2-be7a-7c8f5299ecd0",
        "trusted": false
      },
      "cell_type": "code",
      "source": [
        "os.listdir()  # listdir() tells us what files are in the working directory"
      ],
      "execution_count": null,
      "outputs": [
        {
          "output_type": "execute_result",
          "execution_count": 4,
          "data": {
            "text/plain": "['L03 More Types.ipynb',\n 'L15 More Functions and Recursion.ipynb',\n 'L11 Files.ipynb',\n 'L09 Tuples, Lists and Dictionaries.ipynb',\n 'myadder.py',\n 'out.txt',\n 'unbitly',\n 'test2.txt',\n 'L07 Functions Continued.ipynb',\n 'fasta.fa',\n 'L14 Inheritance.ipynb',\n 'Mortality',\n 'L18 Data Science .ipynb',\n 'L06 Functions.ipynb',\n 'node_modules',\n 'alice_in_wonderland.txt',\n 'L16 Exceptions and Unit Testing.ipynb',\n '__pycache__',\n 'L02 Variables and Expressions.ipynb',\n 'L05 Loops.ipynb',\n 'temp.txt',\n 'package-lock.json',\n 'package.json',\n 'before-lecture',\n 'figures',\n 'L10 Modules.ipynb',\n 'L08 Strings.ipynb',\n 'test.txt',\n '.ipynb_checkpoints',\n 'sum.py',\n 'Lzz Review.ipynb',\n 'zhivago.txt',\n 'L01 Intro.ipynb',\n 'L04 Conditionals and Branching.ipynb',\n 'data',\n 'L17 Search Algorithms.ipynb',\n 'L13 Classes and Polymorphism.ipynb',\n 'cancer_data.csv',\n 'L12 Classes and Objects.ipynb',\n 'local.txt']"
          },
          "metadata": {}
        }
      ]
    },
    {
      "metadata": {
        "colab": {
          "base_uri": "https://localhost:8080/",
          "height": 34
        },
        "execution": {
          "iopub.execute_input": "2022-09-23T00:20:18.783982Z",
          "iopub.status.busy": "2022-09-23T00:20:18.783059Z",
          "iopub.status.idle": "2022-09-23T00:20:18.788052Z",
          "shell.execute_reply": "2022-09-23T00:20:18.788576Z"
        },
        "outputId": "759cc447-56c4-46b2-be7a-7c8f5299ecd0",
        "trusted": false,
        "id": "5cBliTK37kNC"
      },
      "cell_type": "code",
      "source": [
        "os.listdir(os.getcwd()) # listdir() tells us what files are in the working directory"
      ],
      "execution_count": null,
      "outputs": [
        {
          "output_type": "execute_result",
          "execution_count": 4,
          "data": {
            "text/plain": "['L03 More Types.ipynb',\n 'L15 More Functions and Recursion.ipynb',\n 'L11 Files.ipynb',\n 'L09 Tuples, Lists and Dictionaries.ipynb',\n 'myadder.py',\n 'out.txt',\n 'unbitly',\n 'test2.txt',\n 'L07 Functions Continued.ipynb',\n 'fasta.fa',\n 'L14 Inheritance.ipynb',\n 'Mortality',\n 'L18 Data Science .ipynb',\n 'L06 Functions.ipynb',\n 'node_modules',\n 'alice_in_wonderland.txt',\n 'L16 Exceptions and Unit Testing.ipynb',\n '__pycache__',\n 'L02 Variables and Expressions.ipynb',\n 'L05 Loops.ipynb',\n 'temp.txt',\n 'package-lock.json',\n 'package.json',\n 'before-lecture',\n 'figures',\n 'L10 Modules.ipynb',\n 'L08 Strings.ipynb',\n 'test.txt',\n '.ipynb_checkpoints',\n 'sum.py',\n 'Lzz Review.ipynb',\n 'zhivago.txt',\n 'L01 Intro.ipynb',\n 'L04 Conditionals and Branching.ipynb',\n 'data',\n 'L17 Search Algorithms.ipynb',\n 'L13 Classes and Polymorphism.ipynb',\n 'cancer_data.csv',\n 'L12 Classes and Objects.ipynb',\n 'local.txt']"
          },
          "metadata": {}
        }
      ]
    },
    {
      "metadata": {
        "colab": {
          "base_uri": "https://localhost:8080/",
          "height": 34
        },
        "execution": {
          "iopub.execute_input": "2022-09-23T00:20:18.794060Z",
          "iopub.status.busy": "2022-09-23T00:20:18.793112Z",
          "iopub.status.idle": "2022-09-23T00:20:18.797223Z",
          "shell.execute_reply": "2022-09-23T00:20:18.797716Z"
        },
        "id": "Se2Rr5isj6I7",
        "outputId": "b6014ba6-cd3f-4094-8b28-cc80ddc97724",
        "trusted": true
      },
      "cell_type": "code",
      "source": [
        "# We can create a directory like so:\n",
        "os.mkdir(\"new_directory\")\n",
        "\n",
        "os.listdir(\"new_directory\")\n",
        "# Now \"new_directory\" is a directory in our working directory"
      ],
      "execution_count": null,
      "outputs": [
        {
          "output_type": "execute_result",
          "execution_count": 1,
          "data": {
            "text/plain": "[]"
          },
          "metadata": {}
        }
      ]
    },
    {
      "metadata": {
        "colab": {
          "base_uri": "https://localhost:8080/",
          "height": 34
        },
        "execution": {
          "iopub.execute_input": "2022-09-23T00:20:18.803979Z",
          "iopub.status.busy": "2022-09-23T00:20:18.802955Z",
          "iopub.status.idle": "2022-09-23T00:20:18.808659Z",
          "shell.execute_reply": "2022-09-23T00:20:18.809450Z"
        },
        "id": "3LTGLKkqkRVB",
        "outputId": "eeb04894-a7e2-4ca6-94ed-69ac8cba96b2",
        "trusted": false
      },
      "cell_type": "code",
      "source": [
        "# We can write a file in our new directory like so:\n",
        "\n",
        "# Python uses strings to indicate file paths, generally we can indicate file\n",
        "# paths with the / symbol, so new_directory/test.txt is a file \"test.txt\" in the\n",
        "# directory \"new_directory\"\n",
        "\n",
        "with open(\"new_directory/test.txt\", \"w\") as fh:\n",
        "    fh.write(\"Hello again!\")\n",
        "\n",
        "os.listdir(\"new_directory\")"
      ],
      "execution_count": null,
      "outputs": [
        {
          "output_type": "execute_result",
          "execution_count": 9,
          "data": {
            "text/plain": "['test.txt']"
          },
          "metadata": {}
        }
      ]
    },
    {
      "metadata": {
        "id": "v7VoOWRTp66n"
      },
      "cell_type": "markdown",
      "source": [
        "It is worth mentioning how to delete a file, because your Python programs/scripts should try not make lots of messy files:"
      ]
    },
    {
      "metadata": {
        "colab": {
          "base_uri": "https://localhost:8080/",
          "height": 34
        },
        "execution": {
          "iopub.execute_input": "2022-09-23T00:20:18.815843Z",
          "iopub.status.busy": "2022-09-23T00:20:18.814775Z",
          "iopub.status.idle": "2022-09-23T00:20:18.818557Z",
          "shell.execute_reply": "2022-09-23T00:20:18.819183Z"
        },
        "id": "Q8OHe-OKp9La",
        "outputId": "1deb2c8d-fdf6-48ba-94f3-ad0286e7ca66",
        "trusted": false
      },
      "cell_type": "code",
      "source": [
        "os.remove(\"new_directory/test.txt\") # This removes the file test.txt from new_directory\n",
        "\n",
        "os.listdir(\"new_directory\") # Now the directory is empty"
      ],
      "execution_count": null,
      "outputs": [
        {
          "output_type": "execute_result",
          "execution_count": 10,
          "data": {
            "text/plain": "[]"
          },
          "metadata": {}
        }
      ]
    },
    {
      "metadata": {
        "colab": {
          "base_uri": "https://localhost:8080/",
          "height": 34
        },
        "execution": {
          "iopub.execute_input": "2022-09-23T00:20:18.824007Z",
          "iopub.status.busy": "2022-09-23T00:20:18.822972Z",
          "iopub.status.idle": "2022-09-23T00:20:18.828478Z",
          "shell.execute_reply": "2022-09-23T00:20:18.829049Z"
        },
        "id": "ql-fl1mvqVwr",
        "outputId": "33bf49bd-2eaf-4494-8848-3e1ff68b8670",
        "trusted": false
      },
      "cell_type": "code",
      "source": [
        "# Similarly you can remove empty directories\n",
        "os.rmdir(\"new_directory\") # This will error out if the directory is not empty\n",
        "\n",
        "os.listdir(os.getcwd()) # new_directory is gone"
      ],
      "execution_count": null,
      "outputs": [
        {
          "output_type": "execute_result",
          "execution_count": 11,
          "data": {
            "text/plain": "['L03 More Types.ipynb',\n 'L15 More Functions and Recursion.ipynb',\n 'L11 Files.ipynb',\n 'L09 Tuples, Lists and Dictionaries.ipynb',\n 'myadder.py',\n 'out.txt',\n 'unbitly',\n 'test2.txt',\n 'L07 Functions Continued.ipynb',\n 'fasta.fa',\n 'L14 Inheritance.ipynb',\n 'Mortality',\n 'L18 Data Science .ipynb',\n 'L06 Functions.ipynb',\n 'node_modules',\n 'alice_in_wonderland.txt',\n 'L16 Exceptions and Unit Testing.ipynb',\n '__pycache__',\n 'L02 Variables and Expressions.ipynb',\n 'L05 Loops.ipynb',\n 'temp.txt',\n 'package-lock.json',\n 'package.json',\n 'before-lecture',\n 'figures',\n 'L10 Modules.ipynb',\n 'L08 Strings.ipynb',\n 'test.txt',\n '.ipynb_checkpoints',\n 'sum.py',\n 'Lzz Review.ipynb',\n 'zhivago.txt',\n 'L01 Intro.ipynb',\n 'L04 Conditionals and Branching.ipynb',\n 'data',\n 'L17 Search Algorithms.ipynb',\n 'L13 Classes and Polymorphism.ipynb',\n 'cancer_data.csv',\n 'L12 Classes and Objects.ipynb',\n 'local.txt']"
          },
          "metadata": {}
        }
      ]
    },
    {
      "metadata": {
        "id": "aXnL_XkV7kND"
      },
      "cell_type": "markdown",
      "source": [
        "# Challenge 3"
      ]
    },
    {
      "metadata": {
        "execution": {
          "iopub.execute_input": "2022-09-23T00:20:18.833558Z",
          "iopub.status.busy": "2022-09-23T00:20:18.832669Z",
          "iopub.status.idle": "2022-09-23T00:20:18.835148Z",
          "shell.execute_reply": "2022-09-23T00:20:18.835615Z"
        },
        "trusted": true,
        "id": "HrDnNklZ7kND",
        "outputId": "b4eda306-e43e-4fdb-e1ef-f8a1bd0aa2de"
      },
      "cell_type": "code",
      "source": [
        "# Iterate through the files in your current working directory and print their names\n",
        "import os\n",
        "for filename in os.listdir():\n",
        "    print(filename)\n",
        "    with open(filename) as fh: print(fh.readline()[:40])"
      ],
      "execution_count": null,
      "outputs": [
        {
          "output_type": "stream",
          "text": "L03 More Types.ipynb\n{\n\nL15 More Functions and Recursion.ipynb\n{\"cells\":[{\"metadata\":{\"id\":\"f28Xd6z9-lp\nL11 Files.ipynb\n{\n\nL09 Tuples, Lists and Dictionaries.ipynb\n{\n\nmyadder.py\ndef add(c):\n\nout.txt\n\nunbitly\nforeach f (*.ipynb)\n\ntest2.txt\nMy first file written from Python\n\nL07 Functions Continued.ipynb\n{\n\nfasta.fa\n>a_dummy_dna_string\n\nL14 Inheritance.ipynb\n{\"cells\":[{\"metadata\":{\"id\":\"5UyFJYXOx-W\nMortality\n",
          "name": "stdout"
        },
        {
          "output_type": "error",
          "ename": "IsADirectoryError",
          "evalue": "[Errno 21] Is a directory: 'Mortality'",
          "traceback": [
            "\u001b[0;31m---------------------------------------------------------------------------\u001b[0m",
            "\u001b[0;31mIsADirectoryError\u001b[0m                         Traceback (most recent call last)",
            "\u001b[0;32m<ipython-input-5-8d4d06f39e98>\u001b[0m in \u001b[0;36m<module>\u001b[0;34m\u001b[0m\n\u001b[1;32m      3\u001b[0m \u001b[0;32mfor\u001b[0m \u001b[0mfilename\u001b[0m \u001b[0;32min\u001b[0m \u001b[0mos\u001b[0m\u001b[0;34m.\u001b[0m\u001b[0mlistdir\u001b[0m\u001b[0;34m(\u001b[0m\u001b[0;34m)\u001b[0m\u001b[0;34m:\u001b[0m\u001b[0;34m\u001b[0m\u001b[0;34m\u001b[0m\u001b[0m\n\u001b[1;32m      4\u001b[0m     \u001b[0mprint\u001b[0m\u001b[0;34m(\u001b[0m\u001b[0mfilename\u001b[0m\u001b[0;34m)\u001b[0m\u001b[0;34m\u001b[0m\u001b[0;34m\u001b[0m\u001b[0m\n\u001b[0;32m----> 5\u001b[0;31m     \u001b[0;32mwith\u001b[0m \u001b[0mopen\u001b[0m\u001b[0;34m(\u001b[0m\u001b[0mfilename\u001b[0m\u001b[0;34m)\u001b[0m \u001b[0;32mas\u001b[0m \u001b[0mfh\u001b[0m\u001b[0;34m:\u001b[0m \u001b[0mprint\u001b[0m\u001b[0;34m(\u001b[0m\u001b[0mfh\u001b[0m\u001b[0;34m.\u001b[0m\u001b[0mreadline\u001b[0m\u001b[0;34m(\u001b[0m\u001b[0;34m)\u001b[0m\u001b[0;34m[\u001b[0m\u001b[0;34m:\u001b[0m\u001b[0;36m40\u001b[0m\u001b[0;34m]\u001b[0m\u001b[0;34m)\u001b[0m\u001b[0;34m\u001b[0m\u001b[0;34m\u001b[0m\u001b[0m\n\u001b[0m",
            "\u001b[0;31mIsADirectoryError\u001b[0m: [Errno 21] Is a directory: 'Mortality'"
          ]
        }
      ]
    },
    {
      "metadata": {
        "id": "LeFOCs6H8dfE"
      },
      "cell_type": "markdown",
      "source": [
        "# Getting Data from the Internet"
      ]
    },
    {
      "metadata": {
        "colab": {
          "base_uri": "https://localhost:8080/",
          "height": 69
        },
        "execution": {
          "iopub.execute_input": "2022-09-23T00:20:18.841682Z",
          "iopub.status.busy": "2022-09-23T00:20:18.840807Z",
          "iopub.status.idle": "2022-09-23T00:20:19.165320Z",
          "shell.execute_reply": "2022-09-23T00:20:19.165777Z"
        },
        "id": "b-OAJZVF8iq7",
        "outputId": "6296a5bd-eb88-4ffa-e0c4-14f1de11ab57",
        "trusted": true
      },
      "cell_type": "code",
      "source": [
        "import urllib.request\n",
        "\n",
        "url=\"https://raw.githubusercontent.com/DataBiosphere/toil/master/src/toil/test/wdl/test.csv\"\n",
        "local_copy = \"local.txt\"\n",
        "\n",
        "urllib.request.urlretrieve(url, local_copy)\n",
        "# This function copies the thing the url points at into a local file copy\n",
        "\n",
        "with open(local_copy) as fh: # Print the file\n",
        "    print(fh.readlines())\n",
        "\n",
        "r = []\n",
        "with open(local_copy) as fh: # Print the file\n",
        "    for line in fh: # line is '1,2,3\\n' etc\n",
        "        print(f\"line is {line}\")\n",
        "        line    = line.strip()               # line    is '1,2,3'\n",
        "        print(f\"line is {line}\")\n",
        "        strings = line.split(',')            # strings is [ '1', '2', '3' ]\n",
        "        print(f\"strings is {strings}\")\n",
        "        ints    = [int(s) for s in strings]  # ints    is [1,2,3]\n",
        "        print(f\"ints is {ints}\")\n",
        "        r.append(ints)\n",
        "\n",
        "r\n",
        "#[ [ 1,2,3], [4,5,6], [7,8,9]  ]\n"
      ],
      "execution_count": null,
      "outputs": [
        {
          "output_type": "stream",
          "text": "['1,2,3\\n', '4,5,6\\n', '7,8,9\\n']\nline is 1,2,3\n\nline is 1,2,3\nstrings is ['1', '2', '3']\nints is [1, 2, 3]\nline is 4,5,6\n\nline is 4,5,6\nstrings is ['4', '5', '6']\nints is [4, 5, 6]\nline is 7,8,9\n\nline is 7,8,9\nstrings is ['7', '8', '9']\nints is [7, 8, 9]\n",
          "name": "stdout"
        },
        {
          "output_type": "execute_result",
          "execution_count": 4,
          "data": {
            "text/plain": "[[1, 2, 3], [4, 5, 6], [7, 8, 9]]"
          },
          "metadata": {}
        }
      ]
    },
    {
      "metadata": {
        "id": "jZBKbIBn9Woa"
      },
      "cell_type": "markdown",
      "source": [
        "# Challenge 4: File Processing Example\n",
        "\n",
        "read the data in local.txt\n",
        "\n",
        "and then *parse* it into a list of list of ints\n",
        "\n",
        "Should get: [[1, 2, 3], [4, 5, 6], [7, 8, 9]]\n",
        "\n",
        "Note: string.strip() removes whitespace (eg newlines) around a string"
      ]
    },
    {
      "metadata": {
        "colab": {
          "base_uri": "https://localhost:8080/",
          "height": 69
        },
        "execution": {
          "iopub.execute_input": "2022-09-23T00:20:18.841682Z",
          "iopub.status.busy": "2022-09-23T00:20:18.840807Z",
          "iopub.status.idle": "2022-09-23T00:20:19.165320Z",
          "shell.execute_reply": "2022-09-23T00:20:19.165777Z"
        },
        "outputId": "6296a5bd-eb88-4ffa-e0c4-14f1de11ab57",
        "trusted": true,
        "id": "4AsvCf1n7kNE"
      },
      "cell_type": "code",
      "source": [
        "import urllib.request\n",
        "url=\"https://raw.githubusercontent.com/DataBiosphere/toil/master/src/toil/test/wdl/test.csv\"\n",
        "local_copy = \"local.txt\"\n",
        "urllib.request.urlretrieve(url, local_copy)\n",
        "\n",
        "lst = []\n",
        "with open(local_copy) as fh:\n",
        "    for line in fh:\n",
        "        print(line)\n",
        "        print(line.strip())\n",
        "        print(line.split(\",\"))\n",
        "        ...\n",
        "        lst.append(...)\n",
        "print(lst)"
      ],
      "execution_count": null,
      "outputs": [
        {
          "output_type": "stream",
          "text": "1,2,3\n\n1,2,3\n['1', '2', '3\\n']\n4,5,6\n\n4,5,6\n['4', '5', '6\\n']\n7,8,9\n\n7,8,9\n['7', '8', '9\\n']\n[Ellipsis, Ellipsis, Ellipsis]\n",
          "name": "stdout"
        }
      ]
    },
    {
      "metadata": {
        "colab": {
          "base_uri": "https://localhost:8080/",
          "height": 69
        },
        "execution": {
          "iopub.execute_input": "2022-09-23T00:20:18.841682Z",
          "iopub.status.busy": "2022-09-23T00:20:18.840807Z",
          "iopub.status.idle": "2022-09-23T00:20:19.165320Z",
          "shell.execute_reply": "2022-09-23T00:20:19.165777Z"
        },
        "outputId": "6296a5bd-eb88-4ffa-e0c4-14f1de11ab57",
        "trusted": true,
        "id": "NfTB-93_7kNE"
      },
      "cell_type": "code",
      "source": [
        "# Pretty complex terse code\n",
        "# HARD CHALLENGE: Can you understand what's going on here?\n",
        "with open(local_copy) as fh:\n",
        "    lst = [  [int(s) for s in line.strip().split(\",\")] for line in fh ]\n",
        "lst"
      ],
      "execution_count": null,
      "outputs": [
        {
          "output_type": "execute_result",
          "execution_count": 3,
          "data": {
            "text/plain": "[[1, 2, 3], [4, 5, 6], [7, 8, 9]]"
          },
          "metadata": {}
        }
      ]
    },
    {
      "metadata": {
        "id": "KZP9y5sgyVm8"
      },
      "cell_type": "markdown",
      "source": [
        "# Homework\n",
        "\n",
        "* ZyBook Reading 11\n",
        "* Open book Chapter 13 on files: http://openbookproject.net/thinkcs/python/english3e/files.html\n",
        "\n",
        "\n"
      ]
    }
  ],
  "metadata": {
    "celltoolbar": "Slideshow",
    "colab": {
      "name": "L11 Files.ipynb",
      "provenance": [],
      "toc_visible": true
    },
    "kernelspec": {
      "name": "python3",
      "display_name": "Python 3",
      "language": "python"
    },
    "language_info": {
      "name": "python",
      "version": "3.10.4",
      "mimetype": "text/x-python",
      "codemirror_mode": {
        "name": "ipython",
        "version": 3
      },
      "pygments_lexer": "ipython3",
      "nbconvert_exporter": "python",
      "file_extension": ".py"
    }
  },
  "nbformat": 4,
  "nbformat_minor": 0
}