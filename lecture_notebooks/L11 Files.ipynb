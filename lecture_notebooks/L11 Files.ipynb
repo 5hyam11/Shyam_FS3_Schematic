{
  "cells": [
    {
      "metadata": {
        "id": "5UyFJYXOx-WH"
      },
      "cell_type": "markdown",
      "source": [
        "# Lecture 11 - Files\n",
        "\n",
        "Today:\n",
        "* Files.\n",
        "  * Writing Files\n",
        "  * Reading files\n",
        "  * With keyword\n",
        "  * For loops on file handles\n",
        "  * Binary files\n",
        "  * Large worked example (Fasta file processing)\n",
        "  * Directories\n",
        "  * Web file retrieval\n",
        "\n"
      ]
    },
    {
      "metadata": {
        "id": "iT7epkfjCAq6"
      },
      "cell_type": "markdown",
      "source": [
        "# Motivation\n",
        "\n",
        "* Up to now we've mainly used input() to get input to the programs we've written.\n",
        "\n",
        "* In the real world, this is not the way we generally get data into a program. Rather we read and write data to and from files.\n",
        "\n",
        "* Files (eg documents, spreadsheets or images) are just semantically organized sequences of bits.\n",
        "\n",
        "* They can exist on a disk, be pulled from the internet or be created transiently as we pipe inputs and outputs from our programs.\n",
        "\n",
        "* They can be small, and they can be very large.\n",
        "\n",
        "Anyway, let's dive in... (today will use larger code samples than we've seen previously - you're leveling up)"
      ]
    },
    {
      "metadata": {
        "id": "SZ27fsOR87Cw"
      },
      "cell_type": "markdown",
      "source": [
        "# Writing Files\n",
        "\n",
        "Let's first look at creating a file. You'll often want to do this when writing out the results of some analysis."
      ]
    },
    {
      "metadata": {
        "execution": {
          "iopub.execute_input": "2022-09-23T00:20:18.582650Z",
          "iopub.status.busy": "2022-09-23T00:20:18.581626Z",
          "iopub.status.idle": "2022-09-23T00:20:18.585684Z",
          "shell.execute_reply": "2022-09-23T00:20:18.586336Z"
        },
        "id": "38xJY3yOui52",
        "trusted": false
      },
      "cell_type": "code",
      "source": [
        "my_file = open(\"test.txt\", \"w\")\n",
        "# Opens a file test.txt in the working directory of the Python program.\n",
        "# The \"w\" (short for \"write\"), says you intend to write to the file.\n",
        "\n",
        "# If test.txt does not exist before this point it is created as an empty file.\n",
        "\n",
        "# If test.txt existed before this point its contents are now overwritten -\n",
        "# so be careful opening files for writing\n",
        "\n",
        "# my_file (the return value from open) is a \"file handle\",\n",
        "# you use it to handle the communication with the file\n",
        "\n",
        "# The write method of the file_handle object is a lot like print(),\n",
        "# except (1) the string arguments are written to the file, instead of the screen,\n",
        "# and (2) write does not add newlines to the end of the string\n",
        "# (so you add them explicitly, as in this example)\n",
        "\n",
        "my_file.write(\"My first file written from Python\\n\")\n",
        "my_file.write(\"---------------------------------\\n\")\n",
        "my_file.write(\"Hello, world!\\n\")\n",
        "\n",
        "my_file.close()\n",
        "# This closes the file.\n",
        "# You can't keep using my_file after this as the file connection is closed.\n",
        "# It is important to close the file when\n",
        "# you're done to ensure the file writing is completed successfully (although Python\n",
        "# will clean things up automatically on exit, you shouldn't rely on this in cases\n",
        "# where you're program gets terminated prematurely)"
      ],
      "execution_count": 1,
      "outputs": []
    },
    {
      "metadata": {
        "id": "2cf01WIn7pJZ"
      },
      "cell_type": "markdown",
      "source": [
        "Note: (Do matched demo from terminal to show contents of file)\n"
      ]
    },
    {
      "metadata": {
        "id": "KjJ_lZssTKgN"
      },
      "cell_type": "markdown",
      "source": [
        "**To append to the end of an existing file:**"
      ]
    },
    {
      "metadata": {
        "execution": {
          "iopub.execute_input": "2022-09-23T00:20:18.592268Z",
          "iopub.status.busy": "2022-09-23T00:20:18.591454Z",
          "iopub.status.idle": "2022-09-23T00:20:18.594228Z",
          "shell.execute_reply": "2022-09-23T00:20:18.594887Z"
        },
        "id": "2EpL3R5WBeVf",
        "trusted": false
      },
      "cell_type": "code",
      "source": [
        "my_file = open(\"test.txt\", \"a\")\n",
        "# \"a\" (short for append) opens an existing file to append to it\n",
        "# If test.txt does not exist then 'a' creates the file, just like 'w'\n",
        "\n",
        "my_file.write(\"Hello, again!\\n\")\n",
        "\n",
        "my_file.close() # Again, always close the file"
      ],
      "execution_count": 2,
      "outputs": []
    },
    {
      "metadata": {
        "id": "bf-ylIdLTQpE"
      },
      "cell_type": "markdown",
      "source": [
        "Note: (Continue matched demo from terminal to show contents of appended to file)"
      ]
    },
    {
      "metadata": {
        "id": "0Csg1vPc8_7C"
      },
      "cell_type": "markdown",
      "source": [
        "# Reading Files"
      ]
    },
    {
      "metadata": {
        "colab": {
          "base_uri": "https://localhost:8080/"
        },
        "execution": {
          "iopub.execute_input": "2022-09-23T00:20:18.601150Z",
          "iopub.status.busy": "2022-09-23T00:20:18.600024Z",
          "iopub.status.idle": "2022-09-23T00:20:18.603658Z",
          "shell.execute_reply": "2022-09-23T00:20:18.604194Z"
        },
        "id": "CAhQ4GB07xBM",
        "outputId": "ce62666e-38ea-4c94-f1db-d3e2e6cf71b8",
        "trusted": false
      },
      "cell_type": "code",
      "source": [
        "mynewhandle = open(\"test.txt\", \"r\")\n",
        "# This opens the file, \"r\" argument means \"read\"\n",
        "\n",
        "# The following loop walks through the file line by line\n",
        "\n",
        "while True:                            # Keep reading forever\n",
        "\n",
        "    theline = mynewhandle.readline()   # Try to read next line using readline()\n",
        "\n",
        "    if theline == \"\":                  # When done, readline returns the empty string ''\n",
        "        # allowing us to detect the end of the file and to leave the loop\n",
        "        break                          #     leave the loop\n",
        "\n",
        "    # Now process the line we've just read\n",
        "    print(theline, end=\"\")\n",
        "\n",
        "mynewhandle.close()"
      ],
      "execution_count": 5,
      "outputs": [
        {
          "output_type": "stream",
          "name": "stdout",
          "text": [
            "My first file written from Python\n",
            "---------------------------------\n",
            "Hello, world!\n",
            "Hello, again!\n",
            "Cs sucks!"
          ]
        }
      ]
    },
    {
      "metadata": {
        "id": "XpE5L7547yKT"
      },
      "cell_type": "markdown",
      "source": [
        "What is nice about the above loop is that regardless of the number of files, Python only stores one line in memory, allowing it to process arbitrarily large files."
      ]
    },
    {
      "metadata": {
        "id": "bnkdi0c2Jk7t"
      },
      "cell_type": "markdown",
      "source": [
        "**Python will complain if you try to open a file that doesn't exist...**"
      ]
    },
    {
      "metadata": {
        "colab": {
          "base_uri": "https://localhost:8080/",
          "height": 166
        },
        "execution": {
          "iopub.execute_input": "2022-09-23T00:20:18.610785Z",
          "iopub.status.busy": "2022-09-23T00:20:18.609914Z",
          "iopub.status.idle": "2022-09-23T00:20:18.679660Z",
          "shell.execute_reply": "2022-09-23T00:20:18.680380Z"
        },
        "id": "aTvzYDew7yiC",
        "outputId": "94122b46-28f1-431b-a42b-b5351990a730",
        "trusted": false
      },
      "cell_type": "code",
      "source": [
        "mynewhandle = open(\"wharrah.txt\", \"r\")"
      ],
      "execution_count": null,
      "outputs": [
        {
          "ename": "FileNotFoundError",
          "evalue": "[Errno 2] No such file or directory: 'wharrah.txt'",
          "output_type": "error",
          "traceback": [
            "\u001b[0;31m---------------------------------------------------------------------------\u001b[0m",
            "\u001b[0;31mFileNotFoundError\u001b[0m                         Traceback (most recent call last)",
            "\u001b[0;32m<ipython-input-4-90876b2f847b>\u001b[0m in \u001b[0;36m<module>\u001b[0;34m\u001b[0m\n\u001b[0;32m----> 1\u001b[0;31m \u001b[0mmynewhandle\u001b[0m \u001b[0;34m=\u001b[0m \u001b[0mopen\u001b[0m\u001b[0;34m(\u001b[0m\u001b[0;34m\"wharrah.txt\"\u001b[0m\u001b[0;34m,\u001b[0m \u001b[0;34m\"r\"\u001b[0m\u001b[0;34m)\u001b[0m\u001b[0;34m\u001b[0m\u001b[0;34m\u001b[0m\u001b[0m\n\u001b[0m",
            "\u001b[0;31mFileNotFoundError\u001b[0m: [Errno 2] No such file or directory: 'wharrah.txt'"
          ]
        }
      ]
    },
    {
      "metadata": {
        "id": "ooeE2DB6FCRM"
      },
      "cell_type": "markdown",
      "source": [
        "**To read contents of file into memory in one go use read()**"
      ]
    },
    {
      "metadata": {
        "colab": {
          "base_uri": "https://localhost:8080/"
        },
        "execution": {
          "iopub.execute_input": "2022-09-23T00:20:18.687392Z",
          "iopub.status.busy": "2022-09-23T00:20:18.686320Z",
          "iopub.status.idle": "2022-09-23T00:20:18.690036Z",
          "shell.execute_reply": "2022-09-23T00:20:18.690821Z"
        },
        "id": "aGPsxgzYGuf1",
        "outputId": "03de4d18-45ef-4068-d5eb-2f3b09a90327",
        "trusted": false
      },
      "cell_type": "code",
      "source": [
        "fh = open(\"test.txt\", \"r\") # I often use fh to denote a file handle, for some reason\n",
        "\n",
        "content = fh.read() # Read the contents of the file\n",
        "\n",
        "print(type(content)) # Yup, content is a string\n",
        "\n",
        "print(content)\n",
        "\n",
        "fh.close()"
      ],
      "execution_count": 6,
      "outputs": [
        {
          "output_type": "stream",
          "name": "stdout",
          "text": [
            "<class 'str'>\n",
            "My first file written from Python\n",
            "---------------------------------\n",
            "Hello, world!\n",
            "Hello, again!\n",
            "Cs sucks!\n"
          ]
        }
      ]
    },
    {
      "metadata": {
        "id": "fUUcCij9H0Vi"
      },
      "cell_type": "markdown",
      "source": [
        "**readlines will read all the lines in a file:**"
      ]
    },
    {
      "metadata": {
        "colab": {
          "base_uri": "https://localhost:8080/"
        },
        "execution": {
          "iopub.execute_input": "2022-09-23T00:20:18.697490Z",
          "iopub.status.busy": "2022-09-23T00:20:18.696722Z",
          "iopub.status.idle": "2022-09-23T00:20:18.699976Z",
          "shell.execute_reply": "2022-09-23T00:20:18.700417Z"
        },
        "id": "UyOOG16sHugL",
        "outputId": "41ed53ba-9f6e-42f4-80e4-21d5d14800c3",
        "trusted": false
      },
      "cell_type": "code",
      "source": [
        "fh = open(\"test.txt\") # I often use fh to denote a file handle, for some reason\n",
        "# If you don't give the second argument it defaults to read only\n",
        "\n",
        "content = fh.readlines() # Read the contents of the file\n",
        "\n",
        "print(type(content)) # Yup, content is now a list of strings\n",
        "\n",
        "print(content)\n",
        "\n",
        "fh.close()"
      ],
      "execution_count": 7,
      "outputs": [
        {
          "output_type": "stream",
          "name": "stdout",
          "text": [
            "<class 'list'>\n",
            "['My first file written from Python\\n', '---------------------------------\\n', 'Hello, world!\\n', 'Hello, again!\\n', 'Cs sucks!']\n"
          ]
        }
      ]
    },
    {
      "metadata": {
        "id": "BW2i4b9fJk7t"
      },
      "cell_type": "markdown",
      "source": [
        "# Challenge 1"
      ]
    },
    {
      "metadata": {
        "execution": {
          "iopub.execute_input": "2022-09-23T00:20:18.704758Z",
          "iopub.status.busy": "2022-09-23T00:20:18.703967Z",
          "iopub.status.idle": "2022-09-23T00:20:18.706503Z",
          "shell.execute_reply": "2022-09-23T00:20:18.706949Z"
        },
        "id": "UgYsFrEKE4Y4",
        "trusted": false,
        "outputId": "bddf59aa-f4be-4df0-8681-309d7813ae89"
      },
      "cell_type": "code",
      "source": [
        "l = list(range(100))\n",
        "\n",
        "## Write the numbers in l to a file \"out.txt\"\n",
        "## Read the numbers from out.txt into a new list, \"l2\"\n",
        "## check that l == l2\n",
        "\n",
        "fd = open(\"out.txt\", \"w\")\n",
        "for i in l:\n",
        "    fd.write(str(i) + \"\\n\")\n",
        "fd.close()\n",
        "\n",
        "fd2 = open(\"out.txt\", \"r\")\n",
        "contents = fd2.readlines()\n",
        "fd2.close()\n",
        "\n",
        "l2 = [ int(line) for line in contents  ]\n",
        "\n",
        "l == l2\n",
        "# ... readline(), readlines(), or read()\n"
      ],
      "execution_count": null,
      "outputs": [
        {
          "output_type": "execute_result",
          "execution_count": 11,
          "data": {
            "text/plain": "True"
          },
          "metadata": {}
        }
      ]
    },
    {
      "metadata": {
        "id": "nq84RePQIrbm"
      },
      "cell_type": "markdown",
      "source": [
        "# The with Keyword\n",
        "\n",
        "Good programming is often about anticipating errors and dealing with them.\n",
        "\n",
        "The 'with' keyword is both useful short-hand and good defensive programming. It cleans up the file handle for you\n",
        "\n",
        "(see https://docs.python.org/2.5/whatsnew/pep-343.html for the details...)"
      ]
    },
    {
      "metadata": {
        "colab": {
          "base_uri": "https://localhost:8080/",
          "height": 236
        },
        "execution": {
          "iopub.execute_input": "2022-09-23T00:20:18.711738Z",
          "iopub.status.busy": "2022-09-23T00:20:18.710824Z",
          "iopub.status.idle": "2022-09-23T00:20:18.717746Z",
          "shell.execute_reply": "2022-09-23T00:20:18.718215Z"
        },
        "id": "tZU5iNqQIqcF",
        "outputId": "3f0b7911-5255-493c-d0f5-ac5fa63030a3",
        "trusted": false
      },
      "cell_type": "code",
      "source": [
        "with open(\"test.txt\") as fh:\n",
        "    # With removes the need for the \"fh.close()\" statement\n",
        "    # and is better because fh.close() is guaranteed to be run even if there is an error\n",
        "    # in processing the file\n",
        "\n",
        "    assert False # This causes an error, but fh will still be closed\n",
        "    content = fh.readlines()\n",
        "    print(content)\n",
        "\n",
        "\n",
        "# For files the syntax is:\n",
        "# with OPEN_EXPRESSION as FILE_HANDLE:\n",
        "#   STATEMENTS THAT USE FILE_HANDLE"
      ],
      "execution_count": null,
      "outputs": [
        {
          "ename": "AssertionError",
          "evalue": "",
          "output_type": "error",
          "traceback": [
            "\u001b[0;31m---------------------------------------------------------------------------\u001b[0m",
            "\u001b[0;31mAssertionError\u001b[0m                            Traceback (most recent call last)",
            "\u001b[0;32m<ipython-input-8-2efbed2a78a5>\u001b[0m in \u001b[0;36m<module>\u001b[0;34m\u001b[0m\n\u001b[1;32m      3\u001b[0m   \u001b[0;31m# in processing the file\u001b[0m\u001b[0;34m\u001b[0m\u001b[0;34m\u001b[0m\u001b[0;34m\u001b[0m\u001b[0m\n\u001b[1;32m      4\u001b[0m \u001b[0;34m\u001b[0m\u001b[0m\n\u001b[0;32m----> 5\u001b[0;31m   \u001b[0;32massert\u001b[0m \u001b[0;32mFalse\u001b[0m \u001b[0;31m# This causes an error, but fh will still be closed\u001b[0m\u001b[0;34m\u001b[0m\u001b[0;34m\u001b[0m\u001b[0m\n\u001b[0m\u001b[1;32m      6\u001b[0m \u001b[0;34m\u001b[0m\u001b[0m\n\u001b[1;32m      7\u001b[0m   \u001b[0mcontent\u001b[0m \u001b[0;34m=\u001b[0m \u001b[0mfh\u001b[0m\u001b[0;34m.\u001b[0m\u001b[0mreadlines\u001b[0m\u001b[0;34m(\u001b[0m\u001b[0;34m)\u001b[0m\u001b[0;34m\u001b[0m\u001b[0;34m\u001b[0m\u001b[0m\n",
            "\u001b[0;31mAssertionError\u001b[0m: "
          ]
        }
      ]
    },
    {
      "metadata": {
        "id": "Ji9VkG3QO2JH"
      },
      "cell_type": "markdown",
      "source": [
        "# For loop works on file handles"
      ]
    },
    {
      "metadata": {
        "colab": {
          "base_uri": "https://localhost:8080/"
        },
        "execution": {
          "iopub.execute_input": "2022-09-23T00:20:18.725162Z",
          "iopub.status.busy": "2022-09-23T00:20:18.724308Z",
          "iopub.status.idle": "2022-09-23T00:20:18.727360Z",
          "shell.execute_reply": "2022-09-23T00:20:18.727874Z"
        },
        "id": "PbI6o-TXOtJ2",
        "outputId": "4bb07480-548b-46ea-ea26-3308fba6df8c",
        "trusted": false
      },
      "cell_type": "code",
      "source": [
        "# If you run a for loop on a file handle open for reading\n",
        "# then it iterates through each line in the file\n",
        "\n",
        "with open(\"test.txt\") as fh:\n",
        "    for line in fh:\n",
        "        print(line, end=\"\") # end=\"\" stops print() from adding a newline to the end"
      ],
      "execution_count": 9,
      "outputs": [
        {
          "output_type": "stream",
          "name": "stdout",
          "text": [
            "My first file written from Python\n",
            "---------------------------------\n",
            "Hello, world!\n",
            "Hello, again!\n",
            "Cs sucks!"
          ]
        }
      ]
    },
    {
      "metadata": {
        "id": "igx0XbkiJk7t"
      },
      "cell_type": "markdown",
      "source": [
        "# Challenge 2"
      ]
    },
    {
      "metadata": {
        "execution": {
          "iopub.execute_input": "2022-09-23T00:20:18.733317Z",
          "iopub.status.busy": "2022-09-23T00:20:18.732194Z",
          "iopub.status.idle": "2022-09-23T00:20:18.734727Z",
          "shell.execute_reply": "2022-09-23T00:20:18.735508Z"
        },
        "trusted": false,
        "id": "h6WAMLWfJk7t",
        "outputId": "0512b11e-dc01-4f84-cb8d-7e84bef07d32"
      },
      "cell_type": "code",
      "source": [
        "zhivago = \"\"\"On they went, singing \" Rest Eternal, \" and whenever they\n",
        "stopped, their feet, the horses, and the gusts of wind seemed to\n",
        "carry on their singing.\n",
        "\n",
        "Passers-by made way for the procession, counted the wreaths,\n",
        "and crossed themselves. Some joined in out of curiosity and\n",
        "asked: \" Who is being buried? \"  \" Zhivago, \" they were told.\n",
        "- \" Oh, I see. That's what it is. \" - \"It isn't him. It's his wife.\n",
        "\" - \" Well, it comes to the same thing. May her soul rest in\n",
        "peace. It's a fine funeral. \"\"\"\n",
        "\n",
        "# Write the zhivago string to the file \"zhivago.txt\".\n",
        "# Now read the contents of zhivago.txt,\n",
        "# using a for loop to iterate over the lines,\n",
        "# printing each to the screen.\n",
        "# Use 'with' to cleanup all file handles.\n",
        "\n",
        "with open(\"zhivago.txt\",'w') as fd:\n",
        "    fd.write(zhivago)\n",
        "\n",
        "with open(\"zhivago.txt\") as fd2:\n",
        "    for line in fd2:\n",
        "        print(line, end=\"\")\n"
      ],
      "execution_count": null,
      "outputs": [
        {
          "output_type": "stream",
          "text": "On they went, singing \" Rest Eternal, \" and whenever they\nstopped, their feet, the horses, and the gusts of wind seemed to\ncarry on their singing. \n\nPassers-by made way for the procession, counted the wreaths, \nand crossed themselves. Some joined in out of curiosity and \nasked: \" Who is being buried? \"  \" Zhivago, \" they were told. \n- \" Oh, I see. That's what it is. \" - \"It isn't him. It's his wife.\n\" - \" Well, it comes to the same thing. May her soul rest in \npeace. It's a fine funeral. ",
          "name": "stdout"
        }
      ]
    },
    {
      "metadata": {
        "id": "YSP_EVs7QpgW"
      },
      "cell_type": "markdown",
      "source": [
        "# Binary Files\n",
        "\n",
        "All the files we've seen so far are assumed to be text files (i.e. composed of human readable stuff). However, Python can also happily process binary files, which are just files with arbitrary bits in them.\n",
        "\n",
        "On the left we've opened a binary file (a jpeg) - the bits aren't organized so that they can be decoded as text. We can't assume that the bits in such a binary file are organized into bytes that represent meaningful text characters with white space, etc. On the right is the jpeg when properly decoded as an image.\n",
        "\n",
        "\n",
        "<img src=\"https://raw.githubusercontent.com/cormacflanagan/intro_python/main/lecture_notebooks/figures/binary%20files.jpg\" width=1000 height=500 />\n"
      ]
    },
    {
      "metadata": {
        "colab": {
          "base_uri": "https://localhost:8080/"
        },
        "execution": {
          "iopub.execute_input": "2022-09-23T00:20:18.743222Z",
          "iopub.status.busy": "2022-09-23T00:20:18.742190Z",
          "iopub.status.idle": "2022-09-23T00:20:18.745273Z",
          "shell.execute_reply": "2022-09-23T00:20:18.746034Z"
        },
        "id": "AzQsT6aPXhkj",
        "outputId": "3ed0a7a6-37f1-4f05-99f0-f5c92e3644f4",
        "trusted": false
      },
      "cell_type": "code",
      "source": [
        "# Reading and writing binary data\n",
        "\n",
        "with open(\"test.txt\", \"rb\") as f:\n",
        "    # \"rb\" means read as a binary file\n",
        "    # Any file can be treated as a binary file\n",
        "\n",
        "    with open(\"test2.txt\", \"wb\") as g:\n",
        "        # \"wb\" means write a binary file\n",
        "\n",
        "        while True:\n",
        "            buf = f.read(10)\n",
        "            # The argument to read tells it to read a set number of bytes into \"buf\"\n",
        "            # A Byte is 8 bits, representing a number 0 <= n < 256\n",
        "            # Each Bit is 0 or 1\n",
        "\n",
        "            print(buf)\n",
        "            #print(type(buf))\n",
        "\n",
        "            if len(buf) == 0: # We're at the end\n",
        "                break\n",
        "\n",
        "            g.write(buf)"
      ],
      "execution_count": 11,
      "outputs": [
        {
          "output_type": "stream",
          "name": "stdout",
          "text": [
            "b'My first f'\n",
            "b'ile writte'\n",
            "b'n from Pyt'\n",
            "b'hon\\n------'\n",
            "b'----------'\n",
            "b'----------'\n",
            "b'-------\\nHe'\n",
            "b'llo, world'\n",
            "b'!\\nHello, a'\n",
            "b'gain!\\nCs s'\n",
            "b'ucks!'\n",
            "b''\n"
          ]
        }
      ]
    },
    {
      "metadata": {
        "id": "WgWDW4p-Y2Xb"
      },
      "cell_type": "markdown",
      "source": [
        "Now we can see that test2.txt is just a copy of the original file:"
      ]
    },
    {
      "metadata": {
        "colab": {
          "base_uri": "https://localhost:8080/",
          "height": 87
        },
        "execution": {
          "iopub.execute_input": "2022-09-23T00:20:18.751734Z",
          "iopub.status.busy": "2022-09-23T00:20:18.750668Z",
          "iopub.status.idle": "2022-09-23T00:20:18.753898Z",
          "shell.execute_reply": "2022-09-23T00:20:18.755755Z"
        },
        "id": "oRO95FSoY9MI",
        "outputId": "75db7488-f6d9-4604-a510-77519a48b61e",
        "trusted": false
      },
      "cell_type": "code",
      "source": [
        "with open(\"test2.txt\") as fh:\n",
        "    for line in fh:\n",
        "        print(line, end=\"\")"
      ],
      "execution_count": null,
      "outputs": [
        {
          "output_type": "stream",
          "text": "My first file written from Python\n---------------------------------\nHello, world!\nHello, again!\n",
          "name": "stdout"
        }
      ]
    },
    {
      "metadata": {
        "id": "h0iDQunV8V9W"
      },
      "cell_type": "markdown",
      "source": [
        "# Directories\n",
        "\n",
        "In most systems the operating system has access to a file system in which files are kept. Getting into details\n",
        "is beyond the scope of this course, because it requires us getting into operating system stuff - but let's cover the very basics.\n",
        "\n",
        "For more see: https://docs.python.org/3/library/os.html and https://docs.python.org/3/library/os.path.html\n",
        "\n",
        "By default when you open/write a file in Python uses the current working directory."
      ]
    },
    {
      "metadata": {
        "colab": {
          "base_uri": "https://localhost:8080/",
          "height": 34
        },
        "execution": {
          "iopub.execute_input": "2022-09-23T00:20:18.775623Z",
          "iopub.status.busy": "2022-09-23T00:20:18.774502Z",
          "iopub.status.idle": "2022-09-23T00:20:18.778383Z",
          "shell.execute_reply": "2022-09-23T00:20:18.779063Z"
        },
        "id": "sdevYDXf8XT6",
        "outputId": "76fbef28-9349-4e4a-ae84-1fab16b66865",
        "trusted": false
      },
      "cell_type": "code",
      "source": [
        "import os # This module provides all sorts of useful functions\n",
        "# for working with the operating system\n",
        "\n",
        "os.getcwd() # getcwd() tells us what working directory we're in.\n",
        "# (If you're using Google Collaboratory, this is some directory on\n",
        "# some (virtual) machine in Google Cloud Platform)"
      ],
      "execution_count": null,
      "outputs": [
        {
          "output_type": "execute_result",
          "execution_count": 1,
          "data": {
            "text/plain": "'/private/var/mobile/Library/Mobile Documents/com~apple~CloudDocs/Documents/w/teach/20-f23/intro_python/lecture_notebooks'"
          },
          "metadata": {}
        }
      ]
    },
    {
      "metadata": {
        "colab": {
          "base_uri": "https://localhost:8080/",
          "height": 34
        },
        "execution": {
          "iopub.execute_input": "2022-09-23T00:20:18.783982Z",
          "iopub.status.busy": "2022-09-23T00:20:18.783059Z",
          "iopub.status.idle": "2022-09-23T00:20:18.788052Z",
          "shell.execute_reply": "2022-09-23T00:20:18.788576Z"
        },
        "id": "y-ug5LCkjl4c",
        "outputId": "759cc447-56c4-46b2-be7a-7c8f5299ecd0",
        "trusted": false
      },
      "cell_type": "code",
      "source": [
        "os.listdir(os.getcwd()) # listdir() tells us what files are in the working directory"
      ],
      "execution_count": null,
      "outputs": [
        {
          "output_type": "execute_result",
          "execution_count": 2,
          "data": {
            "text/plain": "['L03 More Types.ipynb',\n 'L15 More Functions and Recursion.ipynb',\n 'L11 Files.ipynb',\n 'L09 Tuples, Lists and Dictionaries.ipynb',\n 'myadder.py',\n 'out.txt',\n 'unbitly',\n 'L07 Functions Continued before lecture.ipynb',\n 'test2.txt',\n 'L07 Functions Continued.ipynb',\n 'fasta.fa',\n 'L14 Inheritance.ipynb',\n 'Mortality',\n 'L18 Data Science .ipynb',\n 'L06 Functions.ipynb',\n 'node_modules',\n 'new_directory',\n 'alice_in_wonderland.txt',\n 'L16 Exceptions and Unit Testing.ipynb',\n 'Final exam review.ipynb',\n 'While.ipynb',\n '__pycache__',\n 'L02 Variables and Expressions.ipynb',\n 'L08 Strings-after-lecture.ipynb',\n 'temp.txt',\n 'package-lock.json',\n 'package.json',\n 'Me.ipynb',\n 'figures',\n 'L10 Modules.ipynb',\n 'Untitled 2.ipynb',\n 'L08 Strings.ipynb',\n 'Review.ipynb',\n 'test.txt',\n '.ipynb_checkpoints',\n 'sum.py',\n 'BinPacking.ipynb',\n 'zhivago.txt',\n 'L01 Intro.ipynb',\n 'data',\n 'Untitled.ipynb',\n 'L17 Search Algorithms.ipynb',\n 'L13 Classes and Polymorphism.ipynb',\n 'L06 Functions before-lecture.ipynb',\n 'cancer_data.csv',\n 'L12 Classes and Objects.ipynb',\n 'local.txt']"
          },
          "metadata": {}
        }
      ]
    },
    {
      "metadata": {
        "colab": {
          "base_uri": "https://localhost:8080/",
          "height": 34
        },
        "execution": {
          "iopub.execute_input": "2022-09-23T00:20:18.794060Z",
          "iopub.status.busy": "2022-09-23T00:20:18.793112Z",
          "iopub.status.idle": "2022-09-23T00:20:18.797223Z",
          "shell.execute_reply": "2022-09-23T00:20:18.797716Z"
        },
        "id": "Se2Rr5isj6I7",
        "outputId": "b6014ba6-cd3f-4094-8b28-cc80ddc97724",
        "trusted": false
      },
      "cell_type": "code",
      "source": [
        "# We can create a directory like so:\n",
        "\n",
        "os.mkdir(\"new_directory\")\n",
        "\n",
        "os.listdir(os.getcwd() + \"/new_directory\")\n",
        "# Now \"new_directory\" is a directory in our working directory"
      ],
      "execution_count": null,
      "outputs": [
        {
          "data": {
            "text/plain": "[]"
          },
          "execution_count": 16,
          "metadata": {},
          "output_type": "execute_result"
        }
      ]
    },
    {
      "metadata": {
        "colab": {
          "base_uri": "https://localhost:8080/",
          "height": 34
        },
        "execution": {
          "iopub.execute_input": "2022-09-23T00:20:18.803979Z",
          "iopub.status.busy": "2022-09-23T00:20:18.802955Z",
          "iopub.status.idle": "2022-09-23T00:20:18.808659Z",
          "shell.execute_reply": "2022-09-23T00:20:18.809450Z"
        },
        "id": "3LTGLKkqkRVB",
        "outputId": "eeb04894-a7e2-4ca6-94ed-69ac8cba96b2",
        "trusted": false
      },
      "cell_type": "code",
      "source": [
        "# We can write a file in our new directory like so:\n",
        "\n",
        "# Python uses strings to indicate file paths, generally we can indicate file\n",
        "# paths with the / symbol, so new_directory/test.txt is a file \"test.txt\" in the\n",
        "# directory \"new_directory\"\n",
        "\n",
        "with open(\"new_directory/test.txt\", \"w\") as fh:\n",
        "    fh.write(\"Hello again!\")\n",
        "\n",
        "os.listdir(os.getcwd() + \"/new_directory\")"
      ],
      "execution_count": null,
      "outputs": [
        {
          "data": {
            "text/plain": "['test.txt']"
          },
          "execution_count": 19,
          "metadata": {},
          "output_type": "execute_result"
        }
      ]
    },
    {
      "metadata": {
        "id": "v7VoOWRTp66n"
      },
      "cell_type": "markdown",
      "source": [
        "It is worth mentioning how to delete a file, because your Python programs/scripts should try not make lots of messy files:"
      ]
    },
    {
      "metadata": {
        "colab": {
          "base_uri": "https://localhost:8080/",
          "height": 34
        },
        "execution": {
          "iopub.execute_input": "2022-09-23T00:20:18.815843Z",
          "iopub.status.busy": "2022-09-23T00:20:18.814775Z",
          "iopub.status.idle": "2022-09-23T00:20:18.818557Z",
          "shell.execute_reply": "2022-09-23T00:20:18.819183Z"
        },
        "id": "Q8OHe-OKp9La",
        "outputId": "1deb2c8d-fdf6-48ba-94f3-ad0286e7ca66",
        "trusted": false
      },
      "cell_type": "code",
      "source": [
        "os.remove(\"new_directory/test.txt\") # This removes the file test.txt from new_directory\n",
        "\n",
        "os.listdir(os.getcwd() + \"/new_directory\") # Now the directory is empty"
      ],
      "execution_count": null,
      "outputs": [
        {
          "data": {
            "text/plain": "[]"
          },
          "execution_count": 18,
          "metadata": {},
          "output_type": "execute_result"
        }
      ]
    },
    {
      "metadata": {
        "colab": {
          "base_uri": "https://localhost:8080/",
          "height": 34
        },
        "execution": {
          "iopub.execute_input": "2022-09-23T00:20:18.824007Z",
          "iopub.status.busy": "2022-09-23T00:20:18.822972Z",
          "iopub.status.idle": "2022-09-23T00:20:18.828478Z",
          "shell.execute_reply": "2022-09-23T00:20:18.829049Z"
        },
        "id": "ql-fl1mvqVwr",
        "outputId": "33bf49bd-2eaf-4494-8848-3e1ff68b8670",
        "trusted": false
      },
      "cell_type": "code",
      "source": [
        "# Similarly you can remove empty directories\n",
        "os.rmdir(\"new_directory\") # This will error out if the directory is not empty\n",
        "\n",
        "os.listdir(os.getcwd()) # new_directory is gone"
      ],
      "execution_count": null,
      "outputs": [
        {
          "data": {
            "text/plain": "['L03 More Types.ipynb',\n 'L11 Files.ipynb',\n '.DS_Store',\n 'L18 Data Science .ipynb',\n 'unbitly',\n 'test2.txt',\n 'L06 Functions.ipynb',\n 'L10 Modules.ipynb',\n 'L08 Strings.ipynb',\n 'L05 Loops.ipynb',\n 'L04 Conditionals and Branching.ipynb',\n 'L13 Classes and Polymorphism.ipynb',\n 'L02 Variables and Expressions.ipynb',\n 'L07 Functions Continued.ipynb',\n 'L16 Exceptions and Unit Testing.ipynb',\n 'L-- Syllabus.ipynb',\n 'figures',\n 'L15 More Functions and Recursion.ipynb',\n 'L14 Inheritance.ipynb',\n 'test.txt',\n '.ipynb_checkpoints',\n 'L17 Search Algorithms.ipynb',\n 'data',\n 'L12 Classes and Objects.ipynb',\n 'tmp',\n 'L09 Tuples, Lists and Dictionaries.ipynb',\n 'L01 Intro.ipynb']"
          },
          "execution_count": 18,
          "metadata": {},
          "output_type": "execute_result"
        }
      ]
    },
    {
      "metadata": {
        "id": "n1DKhgF9Jk7u"
      },
      "cell_type": "markdown",
      "source": [
        "# Challenge 3"
      ]
    },
    {
      "metadata": {
        "execution": {
          "iopub.execute_input": "2022-09-23T00:20:18.833558Z",
          "iopub.status.busy": "2022-09-23T00:20:18.832669Z",
          "iopub.status.idle": "2022-09-23T00:20:18.835148Z",
          "shell.execute_reply": "2022-09-23T00:20:18.835615Z"
        },
        "trusted": true,
        "id": "mpESoA1BJk7u",
        "outputId": "00c749ec-a2a9-4a0a-a9c0-7dc01a58c1dd",
        "colab": {
          "base_uri": "https://localhost:8080/"
        }
      },
      "cell_type": "code",
      "source": [
        "# Iterate through the files in your current working directory and print their names\n",
        "\n",
        "import os\n",
        "dir = os.getcwd()\n",
        "#print(dir)\n",
        "for file in os.listdir(dir):\n",
        "    print(file)\n",
        "\n"
      ],
      "execution_count": 14,
      "outputs": [
        {
          "output_type": "stream",
          "name": "stdout",
          "text": [
            ".config\n",
            "test.txt\n",
            "test2.txt\n",
            "sample_data\n"
          ]
        }
      ]
    },
    {
      "cell_type": "code",
      "source": [
        "import os\n",
        "dir = os.getcwd()\n",
        "for file in os.listdir(dir):\n",
        "    print(file)"
      ],
      "metadata": {
        "id": "4PaNG_bqWi7C",
        "outputId": "b537d8df-0880-4d36-f65d-791845f61d15",
        "colab": {
          "base_uri": "https://localhost:8080/"
        }
      },
      "execution_count": 13,
      "outputs": [
        {
          "output_type": "stream",
          "name": "stdout",
          "text": [
            ".config\n",
            "test.txt\n",
            "test2.txt\n",
            "sample_data\n"
          ]
        }
      ]
    },
    {
      "metadata": {
        "id": "LeFOCs6H8dfE"
      },
      "cell_type": "markdown",
      "source": [
        "# Getting Data from the Internet"
      ]
    },
    {
      "metadata": {
        "colab": {
          "base_uri": "https://localhost:8080/"
        },
        "execution": {
          "iopub.execute_input": "2022-09-23T00:20:18.841682Z",
          "iopub.status.busy": "2022-09-23T00:20:18.840807Z",
          "iopub.status.idle": "2022-09-23T00:20:19.165320Z",
          "shell.execute_reply": "2022-09-23T00:20:19.165777Z"
        },
        "id": "b-OAJZVF8iq7",
        "outputId": "a75a76b7-d312-4a71-e4c8-6feea6dc6284",
        "trusted": false
      },
      "cell_type": "code",
      "source": [
        "import urllib.request\n",
        "\n",
        "url=\"https://raw.githubusercontent.com/DataBiosphere/toil/master/src/toil/test/wdl/test.csv\"\n",
        "local_copy = \"local.txt\"\n",
        "\n",
        "urllib.request.urlretrieve(url, local_copy)\n",
        "# This function copies the thing the url points at into a local file copy\n",
        "r = []\n",
        "with open(local_copy) as fh: # Print the file\n",
        "    for line in fh:\n",
        "      line = line.strip() # strip() removes the newline character\n",
        "      strings = line.split(',') # strings is ['1','2','3']\n",
        "      ints = [int(s) for s in strings] # ints is [1,2,3]\n",
        "      r.append(ints)\n",
        "r"
      ],
      "execution_count": 17,
      "outputs": [
        {
          "output_type": "execute_result",
          "data": {
            "text/plain": [
              "[[1, 2, 3], [4, 5, 6], [7, 8, 9]]"
            ]
          },
          "metadata": {},
          "execution_count": 17
        }
      ]
    },
    {
      "cell_type": "code",
      "source": [
        "with open (local_copy) as fh:\n",
        "  lst = [[int(s)for s in line.strip().split(',')] for line in fh]\n",
        "lst"
      ],
      "metadata": {
        "id": "ir89SZQVaudn",
        "outputId": "03e6ecd6-21ef-430a-ba8f-8c75a61e1821",
        "colab": {
          "base_uri": "https://localhost:8080/"
        }
      },
      "execution_count": 21,
      "outputs": [
        {
          "output_type": "execute_result",
          "data": {
            "text/plain": [
              "[[1, 2, 3], [4, 5, 6], [7, 8, 9]]"
            ]
          },
          "metadata": {},
          "execution_count": 21
        }
      ]
    },
    {
      "metadata": {
        "id": "jZBKbIBn9Woa"
      },
      "cell_type": "markdown",
      "source": [
        "# Challenge 4: File Processing Example\n",
        "\n",
        "Here's a fairly complete worked example of doing file writing and parsing using the simplest bioinformatics format, the fasta file.\n",
        "\n",
        "A fasta file is a file that stores nucleotide (like DNA, RNA,) and amino-acid (protein) sequences.\n",
        "\n",
        "This is a code comprehension exercise, i.e. to complete the task you need to read the code and understand what it is doing."
      ]
    },
    {
      "metadata": {
        "colab": {
          "base_uri": "https://localhost:8080/",
          "height": 180
        },
        "execution": {
          "iopub.execute_input": "2022-09-23T00:20:19.178390Z",
          "iopub.status.busy": "2022-09-23T00:20:19.175811Z",
          "iopub.status.idle": "2022-09-23T00:20:19.186596Z",
          "shell.execute_reply": "2022-09-23T00:20:19.187193Z"
        },
        "id": "2YPQzixw8B1q",
        "outputId": "593d9665-d9d9-4ccc-bec9-f46e009d1512",
        "trusted": false
      },
      "cell_type": "code",
      "source": [
        "\"\"\"\n",
        "Example creating read and write methods for fasta files.\n",
        "\n",
        "Fasta format is a dead simple text (ascii) file:\n",
        "\n",
        ">HEADER_1\n",
        "SEQUENCE_LINE_1\n",
        "SEQUENCE_LINE_2\n",
        "...\n",
        "SEQUENCE_LINE_N\n",
        ">HEADER_2\n",
        "SEQUENCE_LINE_1\n",
        "SEQUENCE_LINE_2\n",
        "...\n",
        "SEQUENCE_LINE_N\n",
        "\n",
        "Where HEADER_ lines give a string descriptor of the sequence\n",
        "and the SEQUENCE_LINE_ lines are concatenated together to form the actual\n",
        "amino-acid or nucleotide sequence.\n",
        "\"\"\"\n",
        "\n",
        "def writeFasta(fileHandle, header, sequence, sequenceLineWidth=100):\n",
        "  \"\"\" Function writes a fasta header/sequence combination to the given file handle.\n",
        "  \"\"\"\n",
        "  fileHandle.write('>' + header + \"\\n\") # Write the header line\n",
        "\n",
        "  # Now write the sequence\n",
        "  for i in range(0,len(sequence),sequenceLineWidth):\n",
        "    # Step through sequence sequenceLineWidth characters at a time\n",
        "\n",
        "    # Write the next sequenceLineWidth chars of the sequence\n",
        "    fileHandle.write(sequence[i:i+sequenceLineWidth] + \"\\n\")\n",
        "\n",
        "def readFasta(fileHandle):\n",
        "    \"\"\" A generator that returns the header/sequence pairs from a fasta file.\n",
        "    \"\"\"\n",
        "    while True:\n",
        "        # Read the header line, skipping and lines not beginning with a '>'\n",
        "        while True:  # Keep looping until we break\n",
        "            l = fileHandle.readline()\n",
        "\n",
        "            if len(l) == 0:  # If we have reached the end of the file, terminate\n",
        "                return None  # None is a standard NULL or 0 quantity used to indicate\n",
        "            # termination\n",
        "\n",
        "            if l[0] == '>':  # Is a valid header line\n",
        "                header = l[1:-1]  # Get the  header between the '>' and the '\\n'\n",
        "                break\n",
        "\n",
        "        # Now read the sequence\n",
        "        substrings = []\n",
        "        while True:\n",
        "            i = fileHandle.tell()\n",
        "            # tell() gives the index that the file handle is at in the file\n",
        "\n",
        "            l = fileHandle.readline()\n",
        "\n",
        "            if len(l) == 0:  # We have reached the end of the file\n",
        "                break\n",
        "\n",
        "            if l[0] == '>':  # We have encountered the start of another sequence\n",
        "                fileHandle.seek(i)\n",
        "                # Roll back the file handle to the point before we called readline()\n",
        "                # this is like \"undoing\" the readline() call\n",
        "                break\n",
        "\n",
        "            substrings.append(l[:-1])  # Add the line, minus the newline to substrings\n",
        "\n",
        "        yield header, \"\".join(substrings)\n",
        "\n",
        "\n",
        "# A few test sequences\n",
        "dna_sequences = {\n",
        "    \"a_dummy_dna_string\":\"GATTACA\",\n",
        "    \"gi 556503834 ref NC_000913.3 Escherichia coli str. K-12 substr. MG1655, complete genome\":\"AGCTTTTCATTCTGACTGCAACGGGCAATATGTCTCTGTGTGGATTAAAAAAAGAGTGTCTGATAGCAGCTTCTGAACTGGTTACCTGCCGTGAGTAAATTAAAATTTTATTGACTTAGGTCACTAAATACTTTAACCAATATAGGCATAGCGCACAGACAGATAAAAATTACAGAGTACACAACATCCATGAAACGCATTAGCACCACCATTACCACCACCATCACCATTACCACAGGTAACGGTGCGGGCTGACGCGTACAGGAAACACAGAAAAAAGCCCGCACCTGACAGTGCGGGCTTTTTTTTTCGACCAAAGGTAACGAGGTAACAACCATGCGAGTGTTGAAGTTCGGCGGTACATCAGTGGCAAATGCAGAACGTTTTCTGCGTGTTGCCGATATTCTGGAAAGCAATGCCAGGCAGGGGCAGGTGGCCACCGTCCTCTCTGCCCCCGCCAAAATCACCAACCACCTGGTGGCGATGATTGAAAAAACCATTAGCGGCCAGGATGCTTTACCCAATATCAGCGATGCCGAACGTATTTTTGCCGAACTTTTGACGGGACTCGCCGCCGCCCAGCCGGGGTTCCCGCTGGCGCAATTGAAAACTTTCGTCGATCAGGAATTTGCCCAAATAAAACATGTCCTGCATGGCATTAGTTTGTTGGGGCAGTGCCCGGATAGCATCAACGCTGCGC\",\n",
        "\"another_dummy_dna_string\":\"CGGCGCGCGTCTTTGCAGCGATGTCACGCGCCCGTATTTCCGTGGTGCTGATTACGCAATCATCTTCCGAATACAGCATCAGTTTCTGCGTTCCACAAAGCGACTGTGTGCGAGCTGAACGGGCAATGCAGGAAGAGTTC\"\n",
        "}\n",
        "\n",
        "# Challenge:\n",
        "# (1) Write the sequences in \"dna_sequences\" into a file \"fasta.fa\" using the writeFasta function,\n",
        "# for each pair in the dictionary using the key as the header and the value as the sequennce\n",
        "\n",
        "pass\n",
        "\n",
        "# (2) Make an empty dictionary called dna_sequences_copy\n",
        "dna_sequences_copy = {}\n",
        "\n",
        "# (3) Read the sequences in \"fasta.fa\" using the readFasta function,\n",
        "# putting the header:sequence pairs into dna_sequences_copy\n",
        "\n",
        "pass\n",
        "\n",
        "# We can check it all worked\n",
        "assert dna_sequences == dna_sequences_copy\n"
      ],
      "execution_count": 16,
      "outputs": [
        {
          "output_type": "error",
          "ename": "AssertionError",
          "evalue": "",
          "traceback": [
            "\u001b[0;31m---------------------------------------------------------------------------\u001b[0m",
            "\u001b[0;31mAssertionError\u001b[0m                            Traceback (most recent call last)",
            "\u001b[0;32m<ipython-input-16-1dbe1e6846ea>\u001b[0m in \u001b[0;36m<cell line: 94>\u001b[0;34m()\u001b[0m\n\u001b[1;32m     92\u001b[0m \u001b[0;34m\u001b[0m\u001b[0m\n\u001b[1;32m     93\u001b[0m \u001b[0;31m# We can check it all worked\u001b[0m\u001b[0;34m\u001b[0m\u001b[0;34m\u001b[0m\u001b[0m\n\u001b[0;32m---> 94\u001b[0;31m \u001b[0;32massert\u001b[0m \u001b[0mdna_sequences\u001b[0m \u001b[0;34m==\u001b[0m \u001b[0mdna_sequences_copy\u001b[0m\u001b[0;34m\u001b[0m\u001b[0;34m\u001b[0m\u001b[0m\n\u001b[0m",
            "\u001b[0;31mAssertionError\u001b[0m: "
          ]
        }
      ]
    },
    {
      "metadata": {
        "id": "KZP9y5sgyVm8"
      },
      "cell_type": "markdown",
      "source": [
        "# Homework\n",
        "\n",
        "* ZyBook Reading 11\n",
        "* Open book Chapter 13 on files: http://openbookproject.net/thinkcs/python/english3e/files.html\n",
        "\n",
        "\n"
      ]
    }
  ],
  "metadata": {
    "celltoolbar": "Slideshow",
    "colab": {
      "name": "L11 Files.ipynb",
      "provenance": [],
      "toc_visible": true
    },
    "kernelspec": {
      "name": "python3",
      "display_name": "Python 3",
      "language": "python"
    },
    "language_info": {
      "name": "python",
      "version": "3.10.4",
      "mimetype": "text/x-python",
      "codemirror_mode": {
        "name": "ipython",
        "version": 3
      },
      "pygments_lexer": "ipython3",
      "nbconvert_exporter": "python",
      "file_extension": ".py"
    }
  },
  "nbformat": 4,
  "nbformat_minor": 0
}