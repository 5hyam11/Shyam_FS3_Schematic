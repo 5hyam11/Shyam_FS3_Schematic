{
  "cells": [
    {
      "metadata": {
        "id": "5UyFJYXOx-WH"
      },
      "cell_type": "markdown",
      "source": [
        "# Lecture 12 - Classes and Objects\n",
        "\n",
        "* The basics of Python classes and objects:\n",
        "  * Classes and Objects\n",
        " \t* The \\__init__ constructor method\n",
        " \t* Object membership: Dot notation and classes\n",
        " \t* Everything is an object in Python!\n",
        " \t* Methods: adding functions to a class and the self argument\n",
        " \t* Object vs. class variables\n",
        " \t* Objects Mutability\n",
        "* Is vs. =="
      ]
    },
    {
      "metadata": {
        "id": "RfH9iOJpKnV7"
      },
      "cell_type": "markdown",
      "source": [
        "#  Warm Up Challenge"
      ]
    },
    {
      "metadata": {
        "id": "bLaJky0K3AD2",
        "trusted": true
      },
      "cell_type": "code",
      "source": [
        "# Warm-Up Challenge\n",
        "\n",
        "# Write code to manipulate Cartesian coordinates (x,y)\n",
        "\n",
        "# Your code should have two global variables, x and y,\n",
        "# both initialized to 0,\n",
        "# and a function move(dx,dy) that adds dx to x and\n",
        "# adds dy to y\n",
        "\n",
        "x = 0\n",
        "y = 0\n",
        "\n",
        "\n",
        "def move(dx,dy):\n",
        "  x = x + dx\n",
        "  y = y + dy\n"
      ],
      "execution_count": null,
      "outputs": []
    },
    {
      "metadata": {
        "id": "cMTiXTrGR1-y"
      },
      "cell_type": "markdown",
      "source": [
        "# Object Oriented Programming (OOP)\n",
        "\n",
        "* As programs grow it is important to manage complexity\n",
        "* **scope** rules and **modules** help keep **namespaces** manageable.\n",
        "  * e.g. ensuring that variables in one scope (e.g. a function) do not alter identically named variables in another scope.\n",
        "\n",
        "* Object Oriented Programming further helps manage complexity\n",
        "  * All values are \"objects\".\n",
        "  * Objects are, loosely, a combination of functions and variables that allow you to create your own rich types."
      ]
    },
    {
      "metadata": {
        "id": "f1_up_vpVhlD"
      },
      "cell_type": "markdown",
      "source": [
        "#  Classes and Objects\n",
        "\n",
        "A Python object is defined by creating a class definition. This uses the keyword \"class\":"
      ]
    },
    {
      "metadata": {
        "trusted": true,
        "id": "zfjTvT-gVhlD"
      },
      "cell_type": "code",
      "source": [
        "class Point:\n",
        "  \"\"\" Point class represents and manipulates x,y coords. \"\"\"\n",
        "  pass"
      ],
      "execution_count": null,
      "outputs": []
    },
    {
      "metadata": {
        "id": "2WQDsWcnYsj1"
      },
      "cell_type": "markdown",
      "source": [
        "In general classes have the following syntax:"
      ]
    },
    {
      "metadata": {
        "id": "xF7knWJ4Yv-5",
        "trusted": false
      },
      "cell_type": "code",
      "source": [
        "class NameOfClass:                          # Pep 8 says use CamelCase for class names\n",
        "  \"\"\" Docstring describing the class \"\"\"    # Optional Docstring\n",
        "  # Class stuff\n",
        "\n",
        "#other statements outside of the class\n",
        "#(Python uses the same indented whitespace\n",
        "#rules to define what belongs to a class)"
      ],
      "execution_count": null,
      "outputs": []
    },
    {
      "metadata": {
        "id": "SN3z_BEa4BJx"
      },
      "cell_type": "markdown",
      "source": [
        "A class can be considered a recipe for creating objects."
      ]
    },
    {
      "metadata": {
        "colab": {
          "base_uri": "https://localhost:8080/",
          "height": 34
        },
        "id": "W8PSnxc_3_m1",
        "outputId": "068ffba4-4ba7-40be-951f-d5e69c3849c6",
        "trusted": true
      },
      "cell_type": "code",
      "source": [
        "p = Point() # Create an object of class Point,\n",
        "# the general syntax is ClassName(arguments)\n",
        "\n",
        "print(type(p)) # p is now an object, an \"instance of\" class Point\n",
        "print(p)\n"
      ],
      "execution_count": null,
      "outputs": [
        {
          "output_type": "stream",
          "text": "<class '__main__.Point'>\n<__main__.Point object at 0x14f3be6e0>\n",
          "name": "stdout"
        }
      ]
    },
    {
      "metadata": {
        "colab": {
          "base_uri": "https://localhost:8080/",
          "height": 34
        },
        "outputId": "068ffba4-4ba7-40be-951f-d5e69c3849c6",
        "trusted": true,
        "id": "6cH6tRwMVhlE"
      },
      "cell_type": "code",
      "source": [
        "# Add some attributes (aka fields) to Point p\n",
        "\n",
        "p.x = 3\n",
        "print(p.x)\n",
        "p.x += 10\n",
        "print(p.x)"
      ],
      "execution_count": null,
      "outputs": [
        {
          "output_type": "stream",
          "text": "3\n13\n",
          "name": "stdout"
        }
      ]
    },
    {
      "metadata": {
        "colab": {
          "base_uri": "https://localhost:8080/",
          "height": 34
        },
        "outputId": "068ffba4-4ba7-40be-951f-d5e69c3849c6",
        "trusted": true,
        "id": "TiW1u9dUVhlE"
      },
      "cell_type": "code",
      "source": [
        "# Create another point q\n",
        "\n",
        "q = Point()\n",
        "q.x = 42\n",
        "print(q.x)\n",
        "print(p.x)"
      ],
      "execution_count": null,
      "outputs": [
        {
          "output_type": "stream",
          "text": "42\n13\n",
          "name": "stdout"
        }
      ]
    },
    {
      "metadata": {
        "id": "-5-Ukx1s4dYw"
      },
      "cell_type": "markdown",
      "source": [
        "# \\__init__()\n",
        "\n",
        "* Classes can contain functions, which we call **methods**\n",
        "\n",
        "* The first method we will use is \\__init__\n",
        "  * \\__init__ is the object's \"constructor\"\n",
        "  * it initializes the objects attributes (aka fields)\n",
        "  * it takes a self argument, plus 0-or-more other arguments"
      ]
    },
    {
      "metadata": {
        "id": "_jfs8HBnKrPQ",
        "trusted": true
      },
      "cell_type": "code",
      "source": [
        "class Point:\n",
        "  \"\"\" Point class represents and manipulates x,y coords. \"\"\"\n",
        "\n",
        "  def __init__(self, x, y):\n",
        "    \"\"\" Create a new point\n",
        "    This method will be called implicitly when we make a point object.\n",
        "    \"\"\"\n",
        "    self.x = x\n",
        "    self.y = y\n"
      ],
      "execution_count": null,
      "outputs": []
    },
    {
      "metadata": {
        "id": "tgUCAlkN-8w7"
      },
      "cell_type": "markdown",
      "source": [
        "* The key difference between a method and a function, apart from a method belonging to a class, is the first argument: **self**.\n",
        "\n",
        "* It is called \"self\" by convention - you could name it what you like (but don't! - call it self!)\n",
        "\n",
        "* self is a reference to the object itself. it is how we reference things belonging to the object, like variables."
      ]
    },
    {
      "metadata": {
        "id": "PLrrQ0uq6j00"
      },
      "cell_type": "markdown",
      "source": [
        "We can now create a Point object using much the same syntax we use for calling any function:"
      ]
    },
    {
      "metadata": {
        "id": "dpAjByq22flF",
        "trusted": true,
        "outputId": "ac66861e-9018-49b4-db59-bda7dfa5f241"
      },
      "cell_type": "code",
      "source": [
        "p = Point(10, 11)\n",
        "# Make an object of type Point, this implicitly calls the __init__() method\n",
        "# making 10 to the x argument, and 11 the y argument\n",
        "print(type(p))\n"
      ],
      "execution_count": null,
      "outputs": [
        {
          "output_type": "stream",
          "text": "<class '__main__.Point'>\n",
          "name": "stdout"
        }
      ]
    },
    {
      "metadata": {
        "id": "Y-IbJiLuVhlE"
      },
      "cell_type": "markdown",
      "source": [
        "To understand the implicit stuff happening:"
      ]
    },
    {
      "metadata": {
        "trusted": false,
        "id": "sCfyQrefVhlF"
      },
      "cell_type": "code",
      "source": [
        "# When you write \"p = Point(10, 11)\" this happens...\n",
        "\n",
        "p = Point.__new__(Point)\n",
        "# Roughly, this allocates the memory for the p object and sets up the object\n",
        "\n",
        "Point.__init__(p, 10, 11)\n",
        "# This then \"instantiates\" the variables, e.g. x and y"
      ],
      "execution_count": null,
      "outputs": []
    },
    {
      "metadata": {
        "id": "n5JZwJmuLXSQ"
      },
      "cell_type": "markdown",
      "source": [
        "# Object membership: Dot notation and classes\n",
        "\n",
        "To access the variables in a class"
      ]
    },
    {
      "metadata": {
        "colab": {
          "base_uri": "https://localhost:8080/",
          "height": 34
        },
        "id": "UsqoomyqK-Sp",
        "outputId": "8baee511-ea61-4156-8550-027df6259550",
        "trusted": false
      },
      "cell_type": "code",
      "source": [
        "print(p.x, p.y) # This syntax has the form \"object.attribute\""
      ],
      "execution_count": null,
      "outputs": [
        {
          "name": "stdout",
          "output_type": "stream",
          "text": "10 11\n"
        }
      ]
    },
    {
      "metadata": {
        "colab": {
          "base_uri": "https://localhost:8080/",
          "height": 34
        },
        "id": "1ys_lhrmLgaK",
        "outputId": "6d236eb0-b3fa-4761-c0d7-7c808059a9b8",
        "trusted": false
      },
      "cell_type": "code",
      "source": [
        "p.x = 5 # We can update the values of x and y by reassignment\n",
        "p.y = 10\n",
        "\n",
        "print(p.x, p.y)"
      ],
      "execution_count": null,
      "outputs": [
        {
          "name": "stdout",
          "output_type": "stream",
          "text": "5 10\n"
        }
      ]
    },
    {
      "metadata": {
        "id": "8IMtZ7HXVhlF"
      },
      "cell_type": "markdown",
      "source": [
        "# Classes vs. Objects\n",
        "\n",
        "The following silly diagram illustrates the difference between a Class and Objects of that class:\n",
        "\n",
        "<img src=\"https://upload.wikimedia.org/wikipedia/commons/thumb/6/62/CPT-OOP-objects_and_classes.svg/2560px-CPT-OOP-objects_and_classes.svg.png\" width=800 height=400 />\n"
      ]
    },
    {
      "metadata": {
        "trusted": false,
        "id": "Rx7Itu0EVhlF",
        "outputId": "94a862b6-ea46-4f03-979d-82b006ba47bb"
      },
      "cell_type": "code",
      "source": [
        "# As the previous picture illustrates,\n",
        "# we are free to make as many objects of a class as we like:\n",
        "\n",
        "p = Point(10, 11) # p and q are distinct objects of the same class\n",
        "q = Point(4, 2)\n",
        "\n",
        "print(\"p.x\", p.x, \"p.y\", p.y) # Different x and y values\n",
        "print(\"q.x\", q.x, \"q.y\", q.y)\n",
        "print(\"Objects the same:\", p == q) # Not the same object"
      ],
      "execution_count": null,
      "outputs": [
        {
          "name": "stdout",
          "output_type": "stream",
          "text": "p.x 10 p.y 11\nq.x 4 q.y 2\nObjects the same: False\n"
        }
      ]
    },
    {
      "metadata": {
        "id": "roR4GwVZVhlF"
      },
      "cell_type": "markdown",
      "source": [
        "# Challenge 1"
      ]
    },
    {
      "metadata": {
        "trusted": true,
        "id": "6ngp0GzWVhlF",
        "outputId": "317e3584-910f-4435-a26d-a0608682a394"
      },
      "cell_type": "code",
      "source": [
        "# Write a class definition for a new class called \"Vehicle\".\n",
        "# Add an __init__ method that takes a single argument \"color\" and\n",
        "# sets the value as an attribute \"color\"\n",
        "\n",
        "...\n",
        "\n",
        "# This code should work:\n",
        "v = Vehicle(\"purple\")\n",
        "print(v.color)"
      ],
      "execution_count": null,
      "outputs": [
        {
          "output_type": "stream",
          "text": "purple\n",
          "name": "stdout"
        }
      ]
    },
    {
      "metadata": {
        "id": "ZOniNM8FVhlF"
      },
      "cell_type": "markdown",
      "source": [
        "Which leads us to our next discovery.."
      ]
    },
    {
      "metadata": {
        "id": "YZm69sZRRsQn"
      },
      "cell_type": "markdown",
      "source": [
        "# Everything is an object in Python!!!!\n",
        "\n",
        "We've seen lots of basic Python types:\n",
        "* ints, strings, floats, booleans, lists, tuples, etc.\n",
        "\n",
        "Each of these types is actually a **class**\n",
        "\n",
        "Consequently, the following are all **objects** of the corresponding class:\n",
        "* 1\n",
        "* 2.0\n",
        "* \"three\"\n",
        "* True\n",
        "\n",
        "Consider a string:"
      ]
    },
    {
      "metadata": {
        "colab": {
          "base_uri": "https://localhost:8080/",
          "height": 34
        },
        "id": "HZqD5JoJ9ujf",
        "outputId": "42480de3-7a07-4921-cf12-a0a31f1415dc",
        "trusted": false
      },
      "cell_type": "code",
      "source": [
        "type(\"hello\")"
      ],
      "execution_count": null,
      "outputs": [
        {
          "data": {
            "text/plain": "str"
          },
          "execution_count": 8,
          "metadata": {
            "tags": []
          },
          "output_type": "execute_result"
        }
      ]
    },
    {
      "metadata": {
        "colab": {
          "base_uri": "https://localhost:8080/",
          "height": 34
        },
        "id": "ok0uTDxL-pBK",
        "outputId": "5679b7da-7bc0-48bd-80c8-7ed0704d5d44",
        "trusted": false
      },
      "cell_type": "code",
      "source": [
        "\"hello\".__class__\n",
        "# We can also use the __class__ variable of any object to find the \"type\" or\n",
        "# class of the object, i.e. __class__ is an attribute on the object that\n",
        "# refers to the class from which the object was created."
      ],
      "execution_count": null,
      "outputs": [
        {
          "data": {
            "text/plain": "str"
          },
          "execution_count": 1,
          "metadata": {},
          "output_type": "execute_result"
        }
      ]
    },
    {
      "metadata": {
        "colab": {
          "base_uri": "https://localhost:8080/",
          "height": 1000
        },
        "id": "eglFDImz-akm",
        "outputId": "6d619a3f-28f2-4a56-b18f-359f043374ed",
        "trusted": false
      },
      "cell_type": "code",
      "source": [
        "dir(\"hello\")"
      ],
      "execution_count": null,
      "outputs": [
        {
          "data": {
            "text/plain": "['__add__',\n '__class__',\n '__contains__',\n '__delattr__',\n '__dir__',\n '__doc__',\n '__eq__',\n '__format__',\n '__ge__',\n '__getattribute__',\n '__getitem__',\n '__getnewargs__',\n '__gt__',\n '__hash__',\n '__init__',\n '__init_subclass__',\n '__iter__',\n '__le__',\n '__len__',\n '__lt__',\n '__mod__',\n '__mul__',\n '__ne__',\n '__new__',\n '__reduce__',\n '__reduce_ex__',\n '__repr__',\n '__rmod__',\n '__rmul__',\n '__setattr__',\n '__sizeof__',\n '__str__',\n '__subclasshook__',\n 'capitalize',\n 'casefold',\n 'center',\n 'count',\n 'encode',\n 'endswith',\n 'expandtabs',\n 'find',\n 'format',\n 'format_map',\n 'index',\n 'isalnum',\n 'isalpha',\n 'isdecimal',\n 'isdigit',\n 'isidentifier',\n 'islower',\n 'isnumeric',\n 'isprintable',\n 'isspace',\n 'istitle',\n 'isupper',\n 'join',\n 'ljust',\n 'lower',\n 'lstrip',\n 'maketrans',\n 'partition',\n 'replace',\n 'rfind',\n 'rindex',\n 'rjust',\n 'rpartition',\n 'rsplit',\n 'rstrip',\n 'split',\n 'splitlines',\n 'startswith',\n 'strip',\n 'swapcase',\n 'title',\n 'translate',\n 'upper',\n 'zfill']"
          },
          "execution_count": 10,
          "metadata": {
            "tags": []
          },
          "output_type": "execute_result"
        }
      ]
    },
    {
      "metadata": {
        "id": "p6PT6n1cVhlF"
      },
      "cell_type": "markdown",
      "source": [
        "What about the attributes of our point object, p?"
      ]
    },
    {
      "metadata": {
        "colab": {
          "base_uri": "https://localhost:8080/",
          "height": 507
        },
        "id": "uq5KpijFAXrf",
        "outputId": "27b26598-d9ed-4e4a-92c6-9b6eead85a8d",
        "trusted": false
      },
      "cell_type": "code",
      "source": [
        "dir(p)"
      ],
      "execution_count": null,
      "outputs": [
        {
          "data": {
            "text/plain": "['__class__',\n '__delattr__',\n '__dict__',\n '__dir__',\n '__doc__',\n '__eq__',\n '__format__',\n '__ge__',\n '__getattribute__',\n '__gt__',\n '__hash__',\n '__init__',\n '__init_subclass__',\n '__le__',\n '__lt__',\n '__module__',\n '__ne__',\n '__new__',\n '__reduce__',\n '__reduce_ex__',\n '__repr__',\n '__setattr__',\n '__sizeof__',\n '__str__',\n '__subclasshook__',\n '__weakref__',\n 'x',\n 'y']"
          },
          "execution_count": 12,
          "metadata": {
            "tags": []
          },
          "output_type": "execute_result"
        }
      ]
    },
    {
      "metadata": {
        "id": "pgAfSY0NVhlF"
      },
      "cell_type": "markdown",
      "source": [
        "Note that in addition to the x and y variables, p has many additional attributes, we'll learn about where those come from when we study inheritance."
      ]
    },
    {
      "metadata": {
        "id": "ZVH9QrmLL2OS"
      },
      "cell_type": "markdown",
      "source": [
        "# Methods: Adding Functions to an object\n",
        "\n",
        "* The \\__init__() we added was a **method**, a function belonging to an object.\n",
        "\n",
        "* We are free to add user defined methods:\n"
      ]
    },
    {
      "metadata": {
        "id": "DjkEz_2DMA4x",
        "trusted": false
      },
      "cell_type": "code",
      "source": [
        "class Point:\n",
        "  \"\"\" Create a new Point, at coordinates x, y \"\"\"\n",
        "\n",
        "  def __init__(self, x, y):\n",
        "    \"\"\" Create a new point at x, y \"\"\"\n",
        "    self.x = x\n",
        "    self.y = y\n",
        "\n",
        "  def distance_from_origin(self): # We see the \"self\" argument again\n",
        "    \"\"\" Compute my distance from the origin \"\"\"\n",
        "    return ((self.x ** 2) + (self.y ** 2)) ** 0.5 # Pythagorus's theorem"
      ],
      "execution_count": null,
      "outputs": []
    },
    {
      "metadata": {
        "colab": {
          "base_uri": "https://localhost:8080/",
          "height": 34
        },
        "id": "Cs-_HBW-MZ8H",
        "outputId": "6a5229cb-a122-43f6-edce-7742366aab33",
        "trusted": false
      },
      "cell_type": "code",
      "source": [
        "p = Point(3, 4)\n",
        "\n",
        "p.distance_from_origin()"
      ],
      "execution_count": null,
      "outputs": [
        {
          "data": {
            "text/plain": "5.0"
          },
          "execution_count": 23,
          "metadata": {
            "tags": []
          },
          "output_type": "execute_result"
        }
      ]
    },
    {
      "metadata": {
        "id": "47UIdaWFCOL6"
      },
      "cell_type": "markdown",
      "source": [
        "* Adding methods to a class definition is a natural way to group code (e.g. in this example, geometric functions) with data\n",
        "\n",
        "* To recap, the only major structural differences between a regular function and a method are:\n",
        "  * The \"self\" argument\n",
        "  * The use of dot notation to invoke the function\n",
        "  \n"
      ]
    },
    {
      "metadata": {
        "id": "VlIw1Y-mVhlG"
      },
      "cell_type": "markdown",
      "source": [
        "# Challenge 2"
      ]
    },
    {
      "metadata": {
        "trusted": false,
        "id": "D3UTvo55VhlG",
        "outputId": "392ba899-a673-4e2b-ef0b-c9d5b3d94da2"
      },
      "cell_type": "code",
      "source": [
        "# Expand the Vehicle class you wrote in Challenge 1 by adding a method\n",
        "# print_color, which prints the color of the Vehicle to the screen\n",
        "\n",
        "...\n",
        "\n",
        "# This code should work\n",
        "v = Vehicle(\"purple\")\n",
        "v.print_color()"
      ],
      "execution_count": null,
      "outputs": [
        {
          "output_type": "stream",
          "text": "purple\n",
          "name": "stdout"
        }
      ]
    },
    {
      "metadata": {
        "id": "c4kF3OFFI0eo"
      },
      "cell_type": "markdown",
      "source": [
        "# Object vs. class variables\n",
        "\n",
        "As we said earlier, the variables defined in the constructor are unique\n",
        "to an object:"
      ]
    },
    {
      "metadata": {
        "colab": {
          "base_uri": "https://localhost:8080/"
        },
        "id": "uT3atnUxLcYm",
        "outputId": "d08eca43-29fa-4b93-ef49-a878e06d87d8",
        "trusted": false
      },
      "cell_type": "code",
      "source": [
        "p = Point(3, 4)\n",
        "q = Point(10 ,12) # Make a second point\n",
        "\n",
        "print(p.x, p.y, q.x, q.y)  # Each point object (p and q)\n",
        "# has its own x and y"
      ],
      "execution_count": null,
      "outputs": [
        {
          "name": "stdout",
          "output_type": "stream",
          "text": "3 4 10 12\n"
        }
      ]
    },
    {
      "metadata": {
        "id": "UHWmQ4VzPRyF"
      },
      "cell_type": "markdown",
      "source": [
        "**Class variables** are shared by all objects of a class"
      ]
    },
    {
      "metadata": {
        "colab": {
          "base_uri": "https://localhost:8080/"
        },
        "id": "EpGKO-ADPuKY",
        "outputId": "5ed91ed1-076e-4053-cc76-ebc45db744d7",
        "trusted": false
      },
      "cell_type": "code",
      "source": [
        "class Point:\n",
        "  \"\"\" Create a new Point, at coordinates x, y \"\"\"\n",
        "\n",
        "  # Class variables are defined outside of __init__ and are shared\n",
        "  # by all objects of the class\n",
        "  theta = 10\n",
        "\n",
        "  def __init__(self, x=0, y=0):\n",
        "    \"\"\" Create a new point at x, y \"\"\"\n",
        "    self.x = x\n",
        "    self.y = y\n",
        "\n",
        "  # Etc.\n",
        "\n",
        "p = Point(3, 4)\n",
        "q = Point(9, 10)\n",
        "\n",
        "print(\"Before\", p.theta, q.theta)\n",
        "\n",
        "Point.theta = 20\n",
        "# There is only one theta, so we just\n",
        "# changed theta value for all Point objects -note the use of the class name\n",
        "\n",
        "print(\"After\", p.theta, q.theta)\n"
      ],
      "execution_count": null,
      "outputs": [
        {
          "name": "stdout",
          "output_type": "stream",
          "text": "Before 10 10\nAfter 20 20\n"
        }
      ]
    },
    {
      "metadata": {
        "id": "EHQ3hZWQQZvQ"
      },
      "cell_type": "markdown",
      "source": [
        "The benefit of class variables being shared is primarily memory - if you have something that is the same across all objects of a class, use a class variable."
      ]
    },
    {
      "metadata": {
        "colab": {
          "base_uri": "https://localhost:8080/"
        },
        "id": "60r39t4VyZSo",
        "outputId": "e47c398a-399f-43c6-dd3a-d3a9e189a773",
        "trusted": false
      },
      "cell_type": "code",
      "source": [
        "# Note, this doesn't work the way you might expect:\n",
        "\n",
        "p.theta = 5\n",
        "\n",
        "print(\"Again\", p.theta, q.theta)\n",
        "\n",
        "# This is because assigning to p.theta creates a new object variable\n",
        "# that overrides the class variable in the scope of the object\n",
        "# it's those pesky scope rules again\n",
        "\n",
        "print(Point.theta)"
      ],
      "execution_count": null,
      "outputs": [
        {
          "name": "stdout",
          "output_type": "stream",
          "text": "Again 5 20\n20\n"
        }
      ]
    },
    {
      "metadata": {
        "id": "Nk6ilVxeVhlG"
      },
      "cell_type": "markdown",
      "source": [
        "# Challenge 3"
      ]
    },
    {
      "metadata": {
        "trusted": false,
        "id": "L4oio7TnVhlG",
        "outputId": "05236f82-4fcd-4ca4-da78-ca9a3c2eb9b7"
      },
      "cell_type": "code",
      "source": [
        "# Redefine the Vehicle class from Challenges 1 and 2 to include a class variable\n",
        "# \"speed_limit\" setting it to 100\n",
        "\n",
        "...\n",
        "\n",
        "# This code should work\n",
        "v = Vehicle(\"purple\")\n",
        "v.print_color()\n",
        "print(v.speed_limit, Vehicle.speed_limit)\n"
      ],
      "execution_count": null,
      "outputs": [
        {
          "output_type": "stream",
          "text": "purple\n100 100\n",
          "name": "stdout"
        }
      ]
    },
    {
      "metadata": {
        "id": "xIC6Gf32QoXP"
      },
      "cell_type": "markdown",
      "source": [
        " # Object Mutability\n",
        "\n",
        " Python objects are mutable."
      ]
    },
    {
      "metadata": {
        "colab": {
          "base_uri": "https://localhost:8080/"
        },
        "id": "MXyKWy2wKAL4",
        "outputId": "f286e558-3828-4b21-fe4d-e56afa6ead20",
        "trusted": false
      },
      "cell_type": "code",
      "source": [
        "p = Point(5, 10)\n",
        "\n",
        "p.x += 5 # You can directly modify variables\n",
        "\n",
        "print(p.x)\n",
        "\n",
        "# You can even add new variables to an object\n",
        "p.new_variable = 1\n",
        "\n",
        "print(p.new_variable)"
      ],
      "execution_count": null,
      "outputs": [
        {
          "name": "stdout",
          "output_type": "stream",
          "text": "10\n1\n"
        }
      ]
    },
    {
      "metadata": {
        "colab": {
          "base_uri": "https://localhost:8080/",
          "height": 219
        },
        "id": "F-iqtMhWKiwv",
        "outputId": "c53305fe-333b-4039-82b7-462c5f174cfc",
        "trusted": false
      },
      "cell_type": "code",
      "source": [
        "# But note, this doesn't add a \"new_variable\" to other points\n",
        "# you might have or create\n",
        "\n",
        "q = Point(5, 10)\n",
        "\n",
        "q.new_variable # This doesn't exist,\n",
        "# because you only added \"new_variable\" to p"
      ],
      "execution_count": null,
      "outputs": [
        {
          "ename": "AttributeError",
          "evalue": "'Point' object has no attribute 'new_variable'",
          "output_type": "error",
          "traceback": [
            "\u001b[0;31m---------------------------------------------------------------------------\u001b[0m",
            "\u001b[0;31mAttributeError\u001b[0m                            Traceback (most recent call last)",
            "\u001b[0;32m<ipython-input-10-2ea43eb72878>\u001b[0m in \u001b[0;36m<module>\u001b[0;34m\u001b[0m\n\u001b[1;32m      4\u001b[0m \u001b[0mq\u001b[0m \u001b[0;34m=\u001b[0m \u001b[0mPoint\u001b[0m\u001b[0;34m(\u001b[0m\u001b[0;36m5\u001b[0m\u001b[0;34m,\u001b[0m \u001b[0;36m10\u001b[0m\u001b[0;34m)\u001b[0m\u001b[0;34m\u001b[0m\u001b[0m\n\u001b[1;32m      5\u001b[0m \u001b[0;34m\u001b[0m\u001b[0m\n\u001b[0;32m----> 6\u001b[0;31m \u001b[0mq\u001b[0m\u001b[0;34m.\u001b[0m\u001b[0mnew_variable\u001b[0m \u001b[0;31m# This doesn't exist,\u001b[0m\u001b[0;34m\u001b[0m\u001b[0m\n\u001b[0m\u001b[1;32m      7\u001b[0m \u001b[0;31m# because you only added \"new_variable\" to p\u001b[0m\u001b[0;34m\u001b[0m\u001b[0;34m\u001b[0m\u001b[0m\n",
            "\u001b[0;31mAttributeError\u001b[0m: 'Point' object has no attribute 'new_variable'"
          ]
        }
      ]
    },
    {
      "metadata": {
        "id": "73mwHvO3LApm"
      },
      "cell_type": "markdown",
      "source": [
        "# Modifier Methods\n",
        "\n",
        "It is often helpful to add \"modifier\" methods to change the underlying fields, e.g.:"
      ]
    },
    {
      "metadata": {
        "colab": {
          "base_uri": "https://localhost:8080/",
          "height": 34
        },
        "id": "3X80Tbi8LBje",
        "outputId": "57b12dcc-ca2f-45f6-9dde-8f976e8ea79a",
        "trusted": false
      },
      "cell_type": "code",
      "source": [
        "class Point:\n",
        "  \"\"\" Create a new Point, at coordinates x, y \"\"\"\n",
        "\n",
        "  def __init__(self, x=0, y=0):\n",
        "    \"\"\" Create a new point at x, y \"\"\"\n",
        "    self.x = x\n",
        "    self.y = y\n",
        "\n",
        "  def move(self, deltaX, deltaY):\n",
        "    \"\"\" Moves coordinates of point\n",
        "    (this is a modifier method, which you call to change x and y)\n",
        "    \"\"\"\n",
        "    self.x += deltaX\n",
        "    self.y += deltaY\n",
        "\n",
        "p = Point()\n",
        "\n",
        "p.move(5, 10)\n",
        "\n",
        "print(p.x, p.y)\n",
        ""
      ],
      "execution_count": null,
      "outputs": [
        {
          "name": "stdout",
          "output_type": "stream",
          "text": "5 10\n"
        }
      ]
    },
    {
      "metadata": {
        "id": "vBsLiWKcMQwl"
      },
      "cell_type": "markdown",
      "source": [
        "* Modifiers can be used to check changes make sense (using asserts or exceptions)\n",
        "* Modifiers can be used to create more abstract interfaces (avoiding direct variable access)\n",
        "* Sometimes however, modifiers can just be busy work - your mileage may vary"
      ]
    },
    {
      "metadata": {
        "id": "PMkjiBpoVhlH"
      },
      "cell_type": "markdown",
      "source": [
        "# Challenge 4"
      ]
    },
    {
      "metadata": {
        "trusted": true,
        "id": "ZlWmZ1KyVhlH",
        "outputId": "6238990d-b3b1-4fff-b350-f9e306722105"
      },
      "cell_type": "code",
      "source": [
        "# Redefine the Vehicle class from Challenge 3 to include\n",
        "# a modifier method \"respray\" that takes a color argument\n",
        "# and sets the color variable\n",
        "\n",
        "...\n",
        "\n",
        "# This code should work\n",
        "v = Vehicle(\"purple\")\n",
        "v.print_color()\n",
        "v.respray(\"green\")\n",
        "v.print_color()"
      ],
      "execution_count": null,
      "outputs": [
        {
          "output_type": "stream",
          "text": "purple\ngreen\n",
          "name": "stdout"
        }
      ]
    },
    {
      "metadata": {
        "id": "SWIU4Vc8VhlH"
      },
      "cell_type": "markdown",
      "source": [
        "# Two notions of equality\n",
        "* ==\n",
        "* is"
      ]
    },
    {
      "metadata": {
        "trusted": false,
        "id": "GmNIB1tJVhlH",
        "outputId": "3fc8741b-9fbd-48d7-9549-e2b72638a17a"
      },
      "cell_type": "code",
      "source": [
        "p = [1,2,3]\n",
        "q = [1,2,3]\n",
        "\n",
        "# Are p and q 'equal'?\n",
        "# Yes, in that they contain the same contents\n",
        "print(p == q)"
      ],
      "execution_count": null,
      "outputs": [
        {
          "output_type": "stream",
          "text": "True\n",
          "name": "stdout"
        }
      ]
    },
    {
      "metadata": {
        "trusted": false,
        "id": "PCEjBQCtVhlH",
        "outputId": "a5093a4e-1139-4717-d040-1d547b63e891"
      },
      "cell_type": "code",
      "source": [
        "# But no, in that they refer to *different* lists.\n",
        "# We can see this by changing one list.\n",
        "\n",
        "q.append(4)\n",
        "print(f\"q: {q}\")\n",
        "print(f\"p: {p}\")\n",
        "print(p == q)"
      ],
      "execution_count": null,
      "outputs": [
        {
          "output_type": "stream",
          "text": "q is [1, 2, 3, 4]\np is [1, 2, 3]\nFalse\n",
          "name": "stdout"
        }
      ]
    },
    {
      "metadata": {
        "trusted": false,
        "id": "UeXpboh4VhlH",
        "outputId": "9eb2a509-8e42-4cf1-a6f8-38de7405233c"
      },
      "cell_type": "code",
      "source": [
        "# How to see if p and q refer to the *same* list\n",
        "# (not just same contents)?\n",
        "# Use 'is', which checks for pointer-equality\n",
        "# (do p and q point to the same object)\n",
        "p = [1,2,3]\n",
        "q = [1,2,3]\n",
        "print(p == q)\n",
        "print(p is q)\n"
      ],
      "execution_count": null,
      "outputs": [
        {
          "output_type": "stream",
          "text": "True\nFalse\n",
          "name": "stdout"
        }
      ]
    },
    {
      "metadata": {
        "trusted": true,
        "id": "VgzGjcq2VhlH",
        "outputId": "523270a9-4532-401e-e27e-3db6ee2b5603"
      },
      "cell_type": "code",
      "source": [
        "# Now, does this behavior make sense to you?\n",
        "p = [1,2,3]\n",
        "q = p\n",
        "print(f\"q: {q}\")\n",
        "print(f\"p: {p}\")\n",
        "\n",
        "q.append(4)\n",
        "print(f\"q: {q}\")\n",
        "print(f\"p: {p}\")\n"
      ],
      "execution_count": null,
      "outputs": [
        {
          "output_type": "stream",
          "text": "q: [1, 2, 3]\np: [1, 2, 3]\nq: [1, 2, 3, 4]\np: [1, 2, 3, 4]\n",
          "name": "stdout"
        }
      ]
    },
    {
      "metadata": {
        "trusted": false,
        "id": "sPdA7gKvVhlH",
        "outputId": "0a4c3fae-4b3c-420f-fdc6-6f63ed2c6062"
      },
      "cell_type": "code",
      "source": [
        "# Ditto with tuples\n",
        "p=(1,2,3)\n",
        "q=(1,2,3)\n",
        "print(p==q)   # same contents\n",
        "print(q is p) # different objects\n"
      ],
      "execution_count": null,
      "outputs": [
        {
          "name": "stdout",
          "output_type": "stream",
          "text": "True\nFalse\n"
        }
      ]
    },
    {
      "metadata": {
        "id": "KZP9y5sgyVm8"
      },
      "cell_type": "markdown",
      "source": [
        "# Homework\n",
        "\n",
        "* ZyBook Reading 12\n",
        "* Open book Chapter 15: http://openbookproject.net/thinkcs/python/english3e/classes_and_objects_I.html\n",
        "* Open book Chapter 16:\n",
        "http://openbookproject.net/thinkcs/python/english3e/classes_and_objects_II.html\n"
      ]
    }
  ],
  "metadata": {
    "celltoolbar": "Slideshow",
    "colab": {
      "name": "L12 Classes and Objects.ipynb",
      "provenance": []
    },
    "kernelspec": {
      "name": "python3",
      "display_name": "Python 3",
      "language": "python"
    },
    "language_info": {
      "name": "python",
      "version": "3.10.4",
      "mimetype": "text/x-python",
      "codemirror_mode": {
        "name": "ipython",
        "version": 3
      },
      "pygments_lexer": "ipython3",
      "nbconvert_exporter": "python",
      "file_extension": ".py"
    }
  },
  "nbformat": 4,
  "nbformat_minor": 0
}